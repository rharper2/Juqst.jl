{
 "cells": [
  {
   "cell_type": "markdown",
   "metadata": {
    "heading_collapsed": true
   },
   "source": [
    "# A stabiliser run through\n",
    "\n",
    "The idea behind this workbook is to run through the main concepts behind the stabilizer code.\n",
    "In particular we will look at:\n",
    "\n",
    "- creating and manipulating tableaus.\n",
    "- plotting routines\n",
    "- using the stabilizer formalism to look at the [[4,2,2]] code including the logical gates.\n",
    "- use a tableau to create an arbitrary Clifford circuit.\n",
    "\n",
    "After all that you will be an expert."
   ]
  },
  {
   "cell_type": "markdown",
   "metadata": {},
   "source": [
    "# Some preliminaries"
   ]
  },
  {
   "cell_type": "markdown",
   "metadata": {},
   "source": [
    "We will need the following, packages installed."
   ]
  },
  {
   "cell_type": "code",
   "execution_count": 1,
   "metadata": {},
   "outputs": [],
   "source": [
    "using Juqst"
   ]
  },
  {
   "cell_type": "code",
   "execution_count": 2,
   "metadata": {},
   "outputs": [],
   "source": [
    "# From the Julia end we need PyCall and PyPlot to call the python code - these packages should already be installed\n",
    "# if not just follow the instructions in the error message when you try and use them\n",
    "using PyCall\n",
    "using PyPlot"
   ]
  },
  {
   "cell_type": "markdown",
   "metadata": {},
   "source": [
    "## Code to plot circuits"
   ]
  },
  {
   "cell_type": "code",
   "execution_count": 3,
   "metadata": {},
   "outputs": [],
   "source": [
    "# We can use Quantikz to print the circuits. You may need to add this package.\n",
    "using Quantikz"
   ]
  },
  {
   "cell_type": "markdown",
   "metadata": {},
   "source": [
    "# How to use the Tableau"
   ]
  },
  {
   "cell_type": "markdown",
   "metadata": {},
   "source": [
    "## Tableau sets up the Aaronsen/Gottesman stabiliser\n",
    "\n",
    "Full details of the stabiliser formalism can be found https://arxiv.org/abs/quant-ph/0406196\n",
    "\n",
    "Basically we are setting it up in the form of the following stabiliser matrix\n",
    "\n",
    "$$\\left(\\begin{array}{ccc|ccc|c}\n",
    "x_{11} & \\dots & x_{1n}& z_{11} &\\dots & z_{1n} & r_1 \\\\\n",
    "\\vdots & \\ddots & \\vdots& \\vdots &\\ddots & \\vdots & \\vdots \\\\\n",
    "x_{n1} & \\dots & x_{nn}& z_{n1} &\\dots & z_{nn} & r_n\\\\\n",
    "\\hline\n",
    "x_{(n+1)1} & \\dots & x_{(n+1)n}& z_{(n+1)1} &\\dots & z_{(n+1)n} & r_{(n+1)} \\\\\n",
    "\\vdots & \\ddots & \\vdots& \\vdots &\\ddots & \\vdots & \\vdots \\\\\n",
    "x_{(2n)1} & \\dots & x_{(2n)n}& z_{(2n)1} &\\dots & z_{(2n)n} & r_{(2n)}\\end{array}\\right)\n",
    "$$\n",
    "\n",
    "However, just to be different (well really because I found it easier to read), the phase information will be displayed on the left e.g. \n",
    "\n",
    "$$\\left(\\begin{array}{c|ccc|ccc}\n",
    "r_1 & x_{11} & \\dots & x_{1n}& z_{11} &\\dots & z_{1n}  \\\\\n",
    "\\vdots & \\vdots & \\ddots& \\vdots &\\vdots & \\ddots & \\vdots \\\\\n",
    "r_{n} & x_{n1} & \\dots & x_{nn} & z_{n1} &\\dots & z_{nn}\\\\\n",
    "\\hline\n",
    "r_{(n+1)} & x_{(n+1)1} & \\dots & x_{(n+1)n}& z_{(n+1)1} &\\dots & z_{(n+1)n}  \\\\\n",
    "\\vdots & \\vdots & \\ddots& \\vdots &\\vdots & \\ddots & \\vdots \\\\\n",
    "r_{(2n)} & x_{(2n)1} & \\dots & x_{(2n)n} & z_{(2n)1} &\\dots & z_{(2n)n}\\end{array}\\right)\n",
    "$$\n",
    "\n",
    "\n",
    "\n",
    "\n",
    "- Rows 1 to n of the tableau represent the destabiliser generators ($D$)\n",
    "- Rows n+1 to 2n represent the stabiliser generators ($S$).\n",
    "- Each row is read as follows: \n",
    "  - if the x<sub>ij</sub> and z<sub>ij</sub> are 1, the de/stabiliser is a Y, \n",
    "  - if they are both 0, its I \n",
    "  - otherwise its an X or Z depending on which one is set.\n",
    "\n",
    "\n",
    "### Key point with stabilisers and de-stabilisers\n",
    "\n",
    "- All the $S_i$ commute with the other $S$. All The $D_i$ commute with the other $D$\n",
    "- Each $S_i$ anti-commutes with the corresponding $D_i$\n",
    "- Each $S_i$ commutes with all $D_j$, $i\\neq j$"
   ]
  },
  {
   "cell_type": "code",
   "execution_count": 4,
   "metadata": {},
   "outputs": [
    {
     "data": {
      "text/latex": [
       "\\begin{equation*} \\left(\\begin{array}{l|c*{3}c} +& & X  &  I  &  I  \\\\\n",
       " +& & I  &  X  &  I  \\\\\n",
       " +& & I  &  I  &  X  \\\\\n",
       " \\hline\n",
       " +& & Z  &  I  &  I  \\\\\n",
       " +& & I  &  Z  &  I  \\\\\n",
       " +& & I  &  I  &  Z  \\\\\n",
       " \\end{array}\\right)\\\\\\end{equation*}"
      ],
      "text/plain": [
       "\n",
       "+XII\n",
       "+IXI\n",
       "+IIX\n",
       "----\n",
       "+ZII\n",
       "+IZI\n",
       "+IIZ\n"
      ]
     },
     "execution_count": 4,
     "metadata": {},
     "output_type": "execute_result"
    }
   ],
   "source": [
    "# Create a 3 qubit tableau\n",
    "t = Tableau(3)"
   ]
  },
  {
   "cell_type": "markdown",
   "metadata": {},
   "source": [
    "# Some basic examples"
   ]
  },
  {
   "cell_type": "markdown",
   "metadata": {},
   "source": [
    "\n",
    "## How to read this:\n",
    "\n",
    "If the state $|000\\rangle$ is multiplied by any row 'above' the line we get a 1, any row below the line it is zero.\n",
    "\n",
    "\n",
    "The following commands are defined\n",
    "\n",
    "```\n",
    "hadamard(tableau,qubit)      # apply a hadamard to the relevant qubit\n",
    "phase(tableau,qubit)         # apply a phase gate to the relevant qubit\n",
    "cnot(tableau,control,target) # apply a controlled not from control qubit to target qubit\n",
    "X(tableau,qubit)             # apply an X gate to to qubit qubit\n",
    "Z(tableau,qubit)             # apply a Z gate to to qubit qubit\n",
    "```\n",
    "\n",
    "## Let's apply an X gate to see what happens\n"
   ]
  },
  {
   "cell_type": "code",
   "execution_count": 5,
   "metadata": {},
   "outputs": [
    {
     "data": {
      "text/latex": [
       "\\begin{equation*} \\left(\\begin{array}{l|c*{3}c} +& & X  &  I  &  I  \\\\\n",
       " +& & I  &  X  &  I  \\\\\n",
       " +& & I  &  I  &  X  \\\\\n",
       " \\hline\n",
       " +& & Z  &  I  &  I  \\\\\n",
       " -& & I  &  Z  &  I  \\\\\n",
       " +& & I  &  I  &  Z  \\\\\n",
       " \\end{array}\\right)\\\\\\end{equation*}"
      ],
      "text/plain": [
       "\n",
       "+XII\n",
       "+IXI\n",
       "+IIX\n",
       "----\n",
       "+ZII\n",
       "-IZI\n",
       "+IIZ\n"
      ]
     },
     "execution_count": 5,
     "metadata": {},
     "output_type": "execute_result"
    }
   ],
   "source": [
    "t = Tableau(3)\n",
    "X(t,2)\n",
    "t"
   ]
  },
  {
   "cell_type": "markdown",
   "metadata": {},
   "source": [
    "## So the state is now $|010\\rangle$ and we see that -IZI (is now the correct stabilizer state)\n",
    "\n",
    "## What does a hadamard do?"
   ]
  },
  {
   "cell_type": "code",
   "execution_count": 6,
   "metadata": {},
   "outputs": [
    {
     "data": {
      "text/latex": [
       "\\begin{equation*} \\left(\\begin{array}{l|c*{3}c} +& & X  &  I  &  I  \\\\\n",
       " +& & I  &  Z  &  I  \\\\\n",
       " +& & I  &  I  &  X  \\\\\n",
       " \\hline\n",
       " +& & Z  &  I  &  I  \\\\\n",
       " +& & I  &  X  &  I  \\\\\n",
       " +& & I  &  I  &  Z  \\\\\n",
       " \\end{array}\\right)\\\\\\end{equation*}"
      ],
      "text/plain": [
       "\n",
       "+XII\n",
       "+IZI\n",
       "+IIX\n",
       "----\n",
       "+ZII\n",
       "+IXI\n",
       "+IIZ\n"
      ]
     },
     "execution_count": 6,
     "metadata": {},
     "output_type": "execute_result"
    }
   ],
   "source": [
    "t = Tableau(3)\n",
    "hadamard(t,2)\n",
    "t"
   ]
  },
  {
   "cell_type": "markdown",
   "metadata": {},
   "source": [
    "## Which is what we should be expecting:\n",
    "\n",
    "We think we should have the state $|000\\rangle+|010\\rangle$, and this is the one stabilized here. We can print out the kets just to check"
   ]
  },
  {
   "cell_type": "code",
   "execution_count": 7,
   "metadata": {},
   "outputs": [
    {
     "name": "stdout",
     "output_type": "stream",
     "text": [
      "+|000> \n",
      "+|010> \n"
     ]
    }
   ],
   "source": [
    "print(kets(t))"
   ]
  },
  {
   "cell_type": "markdown",
   "metadata": {},
   "source": [
    "## The tableau keeps track of the commands that have been applied"
   ]
  },
  {
   "cell_type": "code",
   "execution_count": 8,
   "metadata": {},
   "outputs": [
    {
     "data": {
      "text/plain": [
       "2-element Vector{String}:\n",
       " \"initialise(3)\"\n",
       " \"hadamard(2)\""
      ]
     },
     "execution_count": 8,
     "metadata": {},
     "output_type": "execute_result"
    }
   ],
   "source": [
    "t.commands"
   ]
  },
  {
   "cell_type": "markdown",
   "metadata": {},
   "source": [
    "## And if you want to draw or use these you can get them in the form of\n",
    "\n",
    "- a qiskit circuit (using the qasm language)\n",
    "- or something you can use with quantikzCircuit\n",
    "\n",
    "### Let's make it a *bit* more interesting first"
   ]
  },
  {
   "cell_type": "code",
   "execution_count": 9,
   "metadata": {},
   "outputs": [],
   "source": [
    "cnot(t,2,1)\n",
    "cnot(t,2,3)"
   ]
  },
  {
   "cell_type": "markdown",
   "metadata": {},
   "source": [
    "qiskitCircuit - returns a python function that will create the circuit for you."
   ]
  },
  {
   "cell_type": "code",
   "execution_count": 10,
   "metadata": {},
   "outputs": [
    {
     "name": "stdout",
     "output_type": "stream",
     "text": [
      "#Pass in the circuit and qubit register\n",
      "def createCircuit(circs,qreg):\n",
      "    circs.h(qreg[2])\n",
      "    circs.cx(qreg[2],qreg[1])\n",
      "    circs.cx(qreg[2],qreg[3])"
     ]
    }
   ],
   "source": [
    "print(qiskitCircuit(t))"
   ]
  },
  {
   "cell_type": "code",
   "execution_count": 11,
   "metadata": {},
   "outputs": [
    {
     "data": {
      "text/plain": [
       "quantikzCircuit (generic function with 1 method)"
      ]
     },
     "execution_count": 11,
     "metadata": {},
     "output_type": "execute_result"
    }
   ],
   "source": [
    "function quantikzCircuit(t::Tableau)\n",
    "\tcommands = t.commands\n",
    "    quantikzCommands=[]\n",
    "\n",
    "    labels=[]\n",
    "\tcurrentDir = pwd()\n",
    "\tfor i = 1:size(commands,1)\n",
    "\t\tm = match(r\"initialise\\((.*)\\)\",commands[i])\n",
    "\t\tif (m!=nothing)\n",
    "\t\t\tfor idx=1:Meta.parse(m.captures[1])\n",
    "    \t\t\t#push!(quantikzCommands,\"qubit q$i\")\n",
    "                push!(labels,\"q$idx\")\n",
    "\t\t\tend\n",
    "    \telse\n",
    "    \t\tm=match(r\"hadamard\\((.*)\\)\",commands[i])\n",
    "    \t\tif (m!=nothing)\n",
    "                push!(quantikzCommands,Quantikz.H(parse(Int,m.captures[1])))\n",
    "    \t\telse\n",
    "    \t\t\tm=match(r\"phase\\((.*)\\)\",commands[i])\n",
    "    \t\t\tif (m!=nothing)\n",
    "                    push!(quantikzCommands,Quantikz.P(parse(Int,m.captures[1])))\n",
    "    \t\t\telse\n",
    "    \t\t\t\tm=match(r\"cnot\\((.*),(.*)\\)\",commands[i])\n",
    "    \t\t\t\tif (m!=nothing)\n",
    "    \t\t\t\t\tpush!(quantikzCommands,Quantikz.CNOT(parse(Int,m.captures[1]),parse(Int,m.captures[2])))\n",
    "    \t\t\t\tend\n",
    "    \t\t\tend\n",
    "    \t\tend\n",
    "    \tend\n",
    "    end\n",
    "\treturn quantikzCommands\n",
    "end\n"
   ]
  },
  {
   "cell_type": "markdown",
   "metadata": {},
   "source": [
    "quantikzCircuit will return a vector of quantikz commands you can use to display it or dump it in your tex file!"
   ]
  },
  {
   "cell_type": "code",
   "execution_count": 12,
   "metadata": {},
   "outputs": [
    {
     "data": {
      "image/png": "[encoded data removed]"
     },
     "metadata": {},
     "output_type": "display_data"
    }
   ],
   "source": [
    "# Convert the ciruit into quantikz commands\n",
    "c = quantikzCircuit(t)\n",
    "# Then display it.\n",
    "displaycircuit(c)"
   ]
  },
  {
   "cell_type": "markdown",
   "metadata": {},
   "source": [
    "- you could also\n",
    "```\n",
    "savecircuit(c,\"circuit.pdf\")\n",
    "print(circuit2string(c))\n",
    "```\n",
    "See https://github.com/Krastanov/Quantikz for more details"
   ]
  },
  {
   "cell_type": "markdown",
   "metadata": {},
   "source": [
    "# How does measurement work"
   ]
  },
  {
   "cell_type": "markdown",
   "metadata": {},
   "source": [
    "Sometimes measurement will be random and sometimes not, depending on the state in question\n",
    "\n",
    "The command is \n",
    "\n",
    "```\n",
    "measure(tableau,qubit)\n",
    "```\n",
    "Basically if there is an 'x' in the stabilisers then it is a random quantum measurement. Below we illustrate how the tableau is altered (again just following the Aaronsen/Gottesman prescription)\n"
   ]
  },
  {
   "cell_type": "code",
   "execution_count": 13,
   "metadata": {},
   "outputs": [
    {
     "name": "stdout",
     "output_type": "stream",
     "text": [
      "\n",
      "+XIII\n",
      "+IZII\n",
      "+IZZI\n",
      "+IIIX\n",
      "-----\n",
      "+ZZII\n",
      "+XXXX\n",
      "+IIXX\n",
      "+IIZZ\n",
      "=====\n",
      "+|0000> \n",
      "+|1111> \n",
      "+|0011> \n",
      "+|1100> \n",
      "\n"
     ]
    }
   ],
   "source": [
    "# Lets set up an arbitrary state:\n",
    "s = Tableau(4)\n",
    "hadamard(s,3)\n",
    "hadamard(s,2)\n",
    "cnot(s,2,3)\n",
    "cnot(s,2,1)\n",
    "cnot(s,3,4)\n",
    "print(s)\n",
    "print(\"=====\\n$(kets(s))\\n\")"
   ]
  },
  {
   "cell_type": "code",
   "execution_count": 14,
   "metadata": {},
   "outputs": [
    {
     "data": {
      "image/png": "[encoded data removed]"
     },
     "metadata": {},
     "output_type": "display_data"
    }
   ],
   "source": [
    "displaycircuit(quantikzCircuit(s))"
   ]
  },
  {
   "cell_type": "markdown",
   "metadata": {},
   "source": [
    "## What happens if we measure qubit 4?\n",
    "\n",
    "Well we can see from the kets, that we might measure a 0 or a 1, how does the tableau alter if we measure a 1 on qubit 4?\n",
    "\n",
    "i.e. what happens if we type \n",
    "\n",
    "measure(t,4) and get a 1.\n",
    "\n",
    "First scan the stabilizers for something with an X in it (if we have that then the measurement is random, not deterministic)\n"
   ]
  },
  {
   "cell_type": "raw",
   "metadata": {},
   "source": [
    "+XIII\n",
    "+IZII\n",
    "+IZZI\n",
    "+IIIX\n",
    "-----\n",
    "+ZZII\n",
    "+XXXX  <---- qubit four has an X\n",
    "+IIXX\n",
    "+IIZZ\n",
    "\n",
    "We know the measurement will be stabilised by -IIIZ (we measured a 1)\n",
    "We also know it will be destabilised by XXXX (since XXXX WAS a stabiliser but we have \"measured\" out the last X)\n",
    "Put the XXXX in the destabilisers\n",
    "\n",
    "+XIII\n",
    "+XXXX\n",
    "+IZZI\n",
    "+IIIX\n",
    "-----\n",
    "+ZZII\n",
    "-IIIZ  <---- qubit four has now been measured\n",
    "+IIXX\n",
    "+IIZZ\n",
    "\n",
    "BUT all the stabilisers have to commute AND all the destabilisers have to commute with each other and the 'non-matching stabiliser'\n",
    "\n",
    "+XIII\n",
    "+XXXX\n",
    "+IZZI\n",
    "+IIIX <---- doesn't commute with IIIZ\n",
    "-----\n",
    "+ZZII\n",
    "-IIIZ  \n",
    "+IIXX <---- doesn't commute with IIIZ\n",
    "+IIZZ\n",
    "\n",
    "So to get everything back to how its supposed to be we need to multiply by IIIZ's matching 'de-stabiliser' ie. the +XXXX\n",
    "\n",
    "IIIX * XXXX = XXXI\n",
    "IIXX * XXXX = XXII\n",
    "\n",
    "+XIII\n",
    "+XXXX\n",
    "+IZZI\n",
    "+XXXI\n",
    "-----\n",
    "+ZZII\n",
    "-IIIZ\n",
    "+XXII\n",
    "+IIZZ\n",
    "\n",
    "And we are done.\n",
    "\n"
   ]
  },
  {
   "cell_type": "markdown",
   "metadata": {},
   "source": [
    "## To check\n",
    "\n",
    "You may need to run the cell below a few times until you measure a 1!"
   ]
  },
  {
   "cell_type": "code",
   "execution_count": 15,
   "metadata": {},
   "outputs": [
    {
     "name": "stdout",
     "output_type": "stream",
     "text": [
      "BEFORE measurement \n",
      "\n",
      "+XIII\n",
      "+IZII\n",
      "+IZZI\n",
      "+IIIX\n",
      "-----\n",
      "+ZZII\n",
      "+XXXX\n",
      "+IIXX\n",
      "+IIZZ\n",
      "=====\n",
      "+|0000> \n",
      "+|1111> \n",
      "+|0011> \n",
      "+|1100> \n",
      "\n",
      "*** We measure a one ***\n",
      "AFTER measurement \n",
      "\n",
      "+XIII\n",
      "+XXXX\n",
      "+IZZI\n",
      "+XXXI\n",
      "-----\n",
      "+ZZII\n",
      "-IIIZ\n",
      "+XXII\n",
      "+IIZZ\n",
      "=====\n",
      "+|0011> \n",
      "+|1111> \n",
      "\n"
     ]
    }
   ],
   "source": [
    "# Lets set up an arbitrary state:\n",
    "s = Tableau(4)\n",
    "hadamard(s,3)\n",
    "hadamard(s,2)\n",
    "cnot(s,2,3)\n",
    "cnot(s,2,1)\n",
    "cnot(s,3,4)\n",
    "print(\"BEFORE measurement \\n\")\n",
    "print(s)\n",
    "print(\"=====\\n$(kets(s))\\n\")\n",
    "\n",
    "x = measure(s,4)\n",
    "\n",
    "if x == 0\n",
    "    print(\"We measured a zero\\n\")\n",
    "else\n",
    "    print(\"*** We measure a one ***\\n\")\n",
    "end\n",
    "\n",
    "print(\"AFTER measurement \\n\")\n",
    "print(s)\n",
    "print(\"=====\\n$(kets(s))\\n\")\n",
    "\n",
    "\n"
   ]
  },
  {
   "cell_type": "markdown",
   "metadata": {},
   "source": [
    "# More exciting examples, the [4,2,2] code"
   ]
  },
  {
   "cell_type": "markdown",
   "metadata": {},
   "source": [
    "## Preliminaries"
   ]
  },
  {
   "cell_type": "markdown",
   "metadata": {},
   "source": [
    "Here we are going to run through how you might use the stabilizer formalism to explore the 4,2,2 code. This borrows heavily from another Gottesman paper: [Quantum fault tolerance in small experiments](https://arxiv.org/abs/1610.03507), where he discusses how to set it up on a small ring of 5 qubits."
   ]
  },
  {
   "cell_type": "markdown",
   "metadata": {},
   "source": [
    "The [4,2,2] code encodes, two logical qubits onto four physical qubits. The distance is only 2, so it can detect when one error has occured, but it doesn't have enough information to correct it. There are a number of uses for such a code.\n",
    "\n",
    "The code words are as follows (where overline indicates a logical qubit):\n",
    "\n",
    "- $|\\overline{00}\\rangle\\rightarrow|0000\\rangle+|1111\\rangle$\n",
    "\n",
    "- $|\\overline{01}\\rangle\\rightarrow|1100\\rangle+|0011\\rangle$\n",
    "\n",
    "- $|\\overline{10}\\rangle\\rightarrow|1010\\rangle+|0101\\rangle$\n",
    "\n",
    "- $|\\overline{11}\\rangle\\rightarrow|0110\\rangle+|1001\\rangle$\n",
    "\n",
    "The stabilizers of the code are $X\\otimes X\\otimes X \\otimes X$ and $Z\\otimes Z\\otimes Z \\otimes Z$ "
   ]
  },
  {
   "cell_type": "code",
   "execution_count": 16,
   "metadata": {},
   "outputs": [
    {
     "data": {
      "text/plain": [
       "codeSetup (generic function with 1 method)"
      ]
     },
     "execution_count": 16,
     "metadata": {},
     "output_type": "execute_result"
    }
   ],
   "source": [
    "# Create the initial code state:\n",
    "\n",
    "function codeSetup()\n",
    "    s = Tableau(5);\n",
    "    hadamard(s,2,false)\n",
    "    cnot(s,2,3,false)\n",
    "    cnot(s,2,1,false)\n",
    "    cnot(s,3,4,false)\n",
    "    cnot(s,4,5,false)\n",
    "    cnot(s,1,5,false)\n",
    "    return s\n",
    "end\n"
   ]
  },
  {
   "cell_type": "code",
   "execution_count": 17,
   "metadata": {},
   "outputs": [
    {
     "data": {
      "image/png": "[encoded data removed]"
     },
     "metadata": {},
     "output_type": "display_data"
    }
   ],
   "source": [
    "# print it because we can\n",
    "s =codeSetup()\n",
    "displaycircuit(quantikzCircuit(s))"
   ]
  },
  {
   "cell_type": "code",
   "execution_count": 18,
   "metadata": {},
   "outputs": [
    {
     "data": {
      "text/plain": [
       "measureIt (generic function with 1 method)"
      ]
     },
     "execution_count": 18,
     "metadata": {},
     "output_type": "execute_result"
    }
   ],
   "source": [
    "# Define a measurement tool\n",
    "\n",
    "function measureIt(s)\n",
    "    return join([string(measure(s,i)) for i=1:4])\n",
    "end"
   ]
  },
  {
   "cell_type": "code",
   "execution_count": 19,
   "metadata": {},
   "outputs": [
    {
     "data": {
      "text/plain": [
       "getLogicalState (generic function with 1 method)"
      ]
     },
     "execution_count": 19,
     "metadata": {},
     "output_type": "execute_result"
    }
   ],
   "source": [
    "function identifyIt(st)\n",
    "    if length(st)>4 \n",
    "        st=st[1:4]\n",
    "    end\n",
    "    if st == \"0000\" || st == \"1111\"\n",
    "        return \"00\"\n",
    "    elseif st == \"1100\" || st == \"0011\"\n",
    "        return \"01\"\n",
    "    elseif st == \"1010\" || st == \"0101\"\n",
    "        return \"10\"\n",
    "    elseif st==\"0110\" || st==\"1001\"\n",
    "        return \"11\"\n",
    "    else\n",
    "        return \"error\"\n",
    "    end\n",
    "end\n",
    "\n",
    "\n",
    "\n",
    "function getLogicalState(s::Tableau)\n",
    "    # clone it!\n",
    "    x = deepcopy(s)\n",
    "    measures = [measure(x,i) for i = 1:4]\n",
    "    if sum(measures)%2 != 0\n",
    "        print(\"Error in state, outside codespace\")\n",
    "        return \"XX\"\n",
    "    else\n",
    "        toReturn = \"\"\n",
    "        allString = kets(s)\n",
    "        ch1 = match(r\"([+-])\\|0000\",allString)\n",
    "        if ch1 != nothing\n",
    "            toReturn = toReturn * \"$(ch1.captures[1])|00> \"\n",
    "        end\n",
    "        ch1 = match(r\"([+-])\\|1100\",allString)\n",
    "        if ch1 != nothing\n",
    "            toReturn = toReturn * \"$(ch1.captures[1])|01> \"\n",
    "        end\n",
    "        ch1 = match(r\"([+-])\\|0101\",allString)\n",
    "        if ch1 != nothing\n",
    "            toReturn = toReturn * \"$(ch1.captures[1])|10> \"\n",
    "        end\n",
    "        ch1 = match(r\"([+-])\\|1001\",allString)\n",
    "        if ch1 != nothing\n",
    "            toReturn = toReturn * \"$(ch1.captures[1])|11> \"\n",
    "        end\n",
    "        return toReturn\n",
    "    end\n",
    "end"
   ]
  },
  {
   "cell_type": "code",
   "execution_count": 20,
   "metadata": {},
   "outputs": [
    {
     "name": "stdout",
     "output_type": "stream",
     "text": [
      "1: 1111 -> 00\n",
      "2: 1111 -> 00\n",
      "3: 0000 -> 00\n",
      "4: 0000 -> 00\n",
      "5: 1111 -> 00\n",
      "6: 0000 -> 00\n",
      "7: 0000 -> 00\n",
      "8: 0000 -> 00\n",
      "9: 0000 -> 00\n"
     ]
    }
   ],
   "source": [
    "# So when we measure the set (first four qubits) it will collapse down into one of the logical 00 states.\n",
    "for i = 1:9\n",
    "    s = codeSetup()\n",
    "    print(\"$i: $(measureIt(s)) -> $(identifyIt(measureIt(s)))\\n\")\n",
    "end"
   ]
  },
  {
   "cell_type": "code",
   "execution_count": 21,
   "metadata": {},
   "outputs": [
    {
     "name": "stdout",
     "output_type": "stream",
     "text": [
      "1: +|00> \n",
      "2: +|00> \n",
      "3: +|00> \n",
      "4: +|00> \n",
      "5: +|00> \n",
      "6: +|00> \n",
      "7: +|00> \n",
      "8: +|00> \n",
      "9: +|00> \n"
     ]
    }
   ],
   "source": [
    "# So when we measure the set (first four qubits) it will collapse down into one of the logical 00 states.\n",
    "for i = 1:9\n",
    "    s = codeSetup()\n",
    "    print(\"$i: $(getLogicalState(s))\\n\")\n",
    "end"
   ]
  },
  {
   "cell_type": "code",
   "execution_count": 22,
   "metadata": {},
   "outputs": [
    {
     "data": {
      "text/plain": [
       "\"0000\""
      ]
     },
     "execution_count": 22,
     "metadata": {},
     "output_type": "execute_result"
    }
   ],
   "source": [
    "t = codeSetup()\n",
    "p = deepcopy(t)\n",
    "measureIt(t)\n"
   ]
  },
  {
   "cell_type": "code",
   "execution_count": 23,
   "metadata": {},
   "outputs": [
    {
     "data": {
      "text/plain": [
       "\"+|00000> \\n\""
      ]
     },
     "execution_count": 23,
     "metadata": {},
     "output_type": "execute_result"
    }
   ],
   "source": [
    "kets(t)"
   ]
  },
  {
   "cell_type": "code",
   "execution_count": 24,
   "metadata": {},
   "outputs": [
    {
     "data": {
      "text/plain": [
       "\"+|00000> \\n+|11110> \\n\""
      ]
     },
     "execution_count": 24,
     "metadata": {},
     "output_type": "execute_result"
    }
   ],
   "source": [
    "kets(p)"
   ]
  },
  {
   "cell_type": "code",
   "execution_count": 25,
   "metadata": {},
   "outputs": [
    {
     "name": "stdout",
     "output_type": "stream",
     "text": [
      "+|00000> \n",
      "+|11110> \n"
     ]
    }
   ],
   "source": [
    "# Alternatively we can look at the kets (remember we have a fifth qubit for state prep)\n",
    "s = codeSetup()\n",
    "print(kets(s))"
   ]
  },
  {
   "cell_type": "markdown",
   "metadata": {},
   "source": [
    "## Test out the logical operators"
   ]
  },
  {
   "cell_type": "code",
   "execution_count": 26,
   "metadata": {},
   "outputs": [
    {
     "data": {
      "text/plain": [
       "logicalHH (generic function with 1 method)"
      ]
     },
     "execution_count": 26,
     "metadata": {},
     "output_type": "execute_result"
    }
   ],
   "source": [
    "function logicalZ(s,a)\n",
    "    if a == 1\n",
    "        Z(s,1)\n",
    "        Z(s,2)\n",
    "    else\n",
    "        Z(s,1)\n",
    "        Z(s,3)\n",
    "    end\n",
    "end\n",
    "       \n",
    "\n",
    "function logicalX(s,a)\n",
    "    if a == 1\n",
    "        X(s,1)\n",
    "        X(s,3)\n",
    "    else\n",
    "        X(s,1)\n",
    "        X(s,2)\n",
    "    end\n",
    "end\n",
    "\n",
    "function logicalHH(s)\n",
    "    hadamard(s,1)\n",
    "    hadamard(s,2)\n",
    "    hadamard(s,3)\n",
    "    hadamard(s,4)\n",
    "end\n",
    "       "
   ]
  },
  {
   "cell_type": "code",
   "execution_count": 27,
   "metadata": {},
   "outputs": [
    {
     "name": "stdout",
     "output_type": "stream",
     "text": [
      "X on first qubit\n",
      "+|10100> \n",
      "+|01010> \n",
      "-------->\t|10>\n",
      "\n",
      "X on second qubit\n",
      "+|11000> \n",
      "+|00110> \n",
      "-------->\t|01>\n",
      "\n"
     ]
    }
   ],
   "source": [
    "print(\"X on first qubit\\n\")\n",
    "s = codeSetup()\n",
    "logicalX(s,1)\n",
    "print(kets(s))\n",
    "print(\"-------->\\t|$(identifyIt(measureIt(s)))>\\n\\n\")\n",
    "print(\"X on second qubit\\n\")\n",
    "s= codeSetup()\n",
    "logicalX(s,2)\n",
    "print(kets(s))\n",
    "print(\"-------->\\t|$(identifyIt(measureIt(s)))>\\n\\n\")\n",
    "\n"
   ]
  },
  {
   "cell_type": "code",
   "execution_count": 28,
   "metadata": {},
   "outputs": [
    {
     "name": "stdout",
     "output_type": "stream",
     "text": [
      "HH on the code, followed by IZ and then another HH -> equivalent of XI (as HH swaps the qubits)\n",
      "+|10100> \n",
      "+|01010> \n",
      "---------->\t|10>\n",
      "\n"
     ]
    }
   ],
   "source": [
    "print(\"HH on the code, followed by IZ and then another HH -> equivalent of XI (as HH swaps the qubits)\\n\")\n",
    "s=codeSetup()\n",
    "logicalHH(s)\n",
    "logicalZ(s,2)\n",
    "logicalHH(s)\n",
    "print(kets(s))\n",
    "print(\"---------->\\t|$(identifyIt(measureIt(s)))>\\n\\n\")\n"
   ]
  },
  {
   "cell_type": "markdown",
   "metadata": {},
   "source": [
    "## So what does four phases do? \n",
    "\n",
    "Well they are supposed to be a controlled-Z gate, followed by a ZZ gate, so what would that look like in two qubits?"
   ]
  },
  {
   "cell_type": "code",
   "execution_count": 29,
   "metadata": {},
   "outputs": [
    {
     "data": {
      "text/plain": [
       "cZgate (generic function with 1 method)"
      ]
     },
     "execution_count": 29,
     "metadata": {},
     "output_type": "execute_result"
    }
   ],
   "source": [
    "function cZgate(t,control,target) # cZgate (diag(1,1,1,-1))\n",
    "    # So a CZ gate is just a CX gate with hadmards on either side of the target\n",
    "    hadamard(t,target)\n",
    "    cnot(t,control,target)\n",
    "    hadamard(t,target)\n",
    "end\n",
    "\n"
   ]
  },
  {
   "cell_type": "markdown",
   "metadata": {},
   "source": [
    "The Z and CZ gate doesn't appear to do anything in the computational basis (it changes phase information), so the easiest way to see this is through kets, when we put the tableau into the |+> basis (i.e. hadamard it). So lets look at that for each of the four computational basis states:"
   ]
  },
  {
   "cell_type": "code",
   "execution_count": 30,
   "metadata": {},
   "outputs": [
    {
     "name": "stdout",
     "output_type": "stream",
     "text": [
      "|00> -> +|00> +|10> +|01> +|11> \n",
      "|10> -> +|00> -|10> +|01> -|11> \n",
      "|01> -> +|00> +|10> -|01> -|11> \n",
      "|11> -> +|00> -|10> -|01> +|11> \n"
     ]
    }
   ],
   "source": [
    "t = Tableau(2)\n",
    "hadamard(t,1)\n",
    "hadamard(t,2)\n",
    "print(\"|00> -> \")\n",
    "print(\"$(replace(kets(t),\"\\n\"=>\"\"))\\n\")\n",
    "\n",
    "t = Tableau(2)\n",
    "X(t,1)\n",
    "hadamard(t,1)\n",
    "hadamard(t,2)\n",
    "print(\"|10> -> \")\n",
    "print(\"$(replace(kets(t),\"\\n\"=>\"\"))\\n\")\n",
    "\n",
    "t = Tableau(2)\n",
    "X(t,2)\n",
    "hadamard(t,1)\n",
    "hadamard(t,2)\n",
    "print(\"|01> -> \")\n",
    "print(\"$(replace(kets(t),\"\\n\"=>\"\"))\\n\")\n",
    "\n",
    "t = Tableau(2)\n",
    "X(t,1)\n",
    "X(t,2)\n",
    "hadamard(t,1)\n",
    "hadamard(t,2)\n",
    "print(\"|11> -> \")\n",
    "print(\"$(replace(kets(t),\"\\n\"=>\"\"))\\n\")\n"
   ]
  },
  {
   "cell_type": "markdown",
   "metadata": {},
   "source": [
    "So this allows us to examine all the relevant 'phase' information as between the kets.\n",
    "If we were to call the CZ gate then we would expect the following changes:\n",
    "\n"
   ]
  },
  {
   "cell_type": "code",
   "execution_count": 31,
   "metadata": {},
   "outputs": [
    {
     "name": "stdout",
     "output_type": "stream",
     "text": [
      "|00> -> +|00> +|10> +|01> +|11>  CZ -> +|00> +|10> +|01> -|11> \n",
      "|10> -> +|00> -|10> +|01> -|11>  CZ -> +|00> -|10> +|01> +|11> \n",
      "|01> -> +|00> +|10> -|01> -|11>  CZ -> +|00> +|10> -|01> +|11> \n",
      "|11> -> +|00> -|10> -|01> +|11>  CZ -> +|00> -|10> -|01> -|11> \n"
     ]
    }
   ],
   "source": [
    "\n",
    "t = Tableau(2)\n",
    "hadamard(t,1)\n",
    "hadamard(t,2)\n",
    "print(\"|00> -> \")\n",
    "print(\"$(replace(kets(t),\"\\n\"=>\"\"))\")\n",
    "cZgate(t,1,2)\n",
    "print(\" CZ -> $(replace(kets(t),\"\\n\"=>\"\"))\\n\")\n",
    "\n",
    "\n",
    "\n",
    "\n",
    "t = Tableau(2)\n",
    "X(t,1)\n",
    "hadamard(t,1)\n",
    "hadamard(t,2)\n",
    "print(\"|10> -> \")\n",
    "print(\"$(replace(kets(t),\"\\n\"=>\"\"))\")\n",
    "cZgate(t,1,2)\n",
    "print(\" CZ -> $(replace(kets(t),\"\\n\"=>\"\"))\\n\")\n",
    "\n",
    "\n",
    "t = Tableau(2)\n",
    "X(t,2)\n",
    "hadamard(t,1)\n",
    "hadamard(t,2)\n",
    "print(\"|01> -> \")\n",
    "print(\"$(replace(kets(t),\"\\n\"=>\"\"))\")\n",
    "cZgate(t,1,2)\n",
    "print(\" CZ -> $(replace(kets(t),\"\\n\"=>\"\"))\\n\")\n",
    "\n",
    "\n",
    "t = Tableau(2)\n",
    "X(t,1)\n",
    "X(t,2)\n",
    "hadamard(t,1)\n",
    "hadamard(t,2)\n",
    "print(\"|11> -> \")\n",
    "print(\"$(replace(kets(t),\"\\n\"=>\"\"))\")\n",
    "cZgate(t,1,2)\n",
    "print(\" CZ -> $(replace(kets(t),\"\\n\"=>\"\"))\\n\")\n",
    "\n",
    "\n"
   ]
  },
  {
   "cell_type": "markdown",
   "metadata": {},
   "source": [
    "Where (hopefully) it is clear that the sign of the |11> ket is the only thing that has changed.\n",
    "Of course the four phases is not a CZ gate, but a CZ gate followed by a ZZ gate, so the following should happen:\n"
   ]
  },
  {
   "cell_type": "code",
   "execution_count": 32,
   "metadata": {},
   "outputs": [
    {
     "name": "stdout",
     "output_type": "stream",
     "text": [
      "|00> -> +|00> +|10> +|01> +|11>  CZ ZZ -> +|00> -|10> -|01> -|11> \n",
      "|10> -> +|00> -|10> +|01> -|11>  CZ ZZ -> +|00> +|10> -|01> +|11> \n",
      "|01> -> +|00> +|10> -|01> -|11>  CZ ZZ -> +|00> -|10> +|01> +|11> \n",
      "|11> -> +|00> -|10> -|01> +|11>  CZ ZZ -> +|00> +|10> +|01> -|11> \n"
     ]
    }
   ],
   "source": [
    "\n",
    "t = Tableau(2)\n",
    "hadamard(t,1)\n",
    "hadamard(t,2)\n",
    "print(\"|00> -> \")\n",
    "print(\"$(replace(kets(t),\"\\n\"=>\"\"))\")\n",
    "cZgate(t,1,2)\n",
    "Z(t,1)\n",
    "Z(t,2)\n",
    "print(\" CZ ZZ -> $(replace(kets(t),\"\\n\"=>\"\"))\\n\")\n",
    "\n",
    "\n",
    "\n",
    "\n",
    "t = Tableau(2)\n",
    "X(t,1)\n",
    "hadamard(t,1)\n",
    "hadamard(t,2)\n",
    "print(\"|10> -> \")\n",
    "print(\"$(replace(kets(t),\"\\n\"=>\"\"))\")\n",
    "cZgate(t,1,2)\n",
    "Z(t,1)\n",
    "Z(t,2)\n",
    "print(\" CZ ZZ -> $(replace(kets(t),\"\\n\"=>\"\"))\\n\")\n",
    "\n",
    "\n",
    "\n",
    "t = Tableau(2)\n",
    "X(t,2)\n",
    "hadamard(t,1)\n",
    "hadamard(t,2)\n",
    "print(\"|01> -> \")\n",
    "print(\"$(replace(kets(t),\"\\n\"=>\"\"))\")\n",
    "cZgate(t,1,2)\n",
    "Z(t,1)\n",
    "Z(t,2)\n",
    "print(\" CZ ZZ -> $(replace(kets(t),\"\\n\"=>\"\"))\\n\")\n",
    "\n",
    "\n",
    "t = Tableau(2)\n",
    "X(t,1)\n",
    "X(t,2)\n",
    "hadamard(t,1)\n",
    "hadamard(t,2)\n",
    "print(\"|11> -> \")\n",
    "print(\"$(replace(kets(t),\"\\n\"=>\"\"))\")\n",
    "cZgate(t,1,2)\n",
    "Z(t,1)\n",
    "Z(t,2)\n",
    "print(\" CZ ZZ -> $(replace(kets(t),\"\\n\"=>\"\"))\\n\")"
   ]
  },
  {
   "cell_type": "markdown",
   "metadata": {},
   "source": [
    "i.e all the signs change, except for the |00>."
   ]
  },
  {
   "cell_type": "markdown",
   "metadata": {},
   "source": [
    "We can now do the same thing when looking at the code."
   ]
  },
  {
   "cell_type": "code",
   "execution_count": 33,
   "metadata": {},
   "outputs": [
    {
     "name": "stdout",
     "output_type": "stream",
     "text": [
      "+|00000> +|11000> +|01100> +|10100> +|00110> +|11110> +|01010> +|10010> \n",
      "Or in logical basis\n",
      "+|00> +|01> +|10> +|11> "
     ]
    }
   ],
   "source": [
    "# A round of hadamards does the same thing \n",
    "# where it should be clear that we just getting each computational basis state in superposition.\n",
    "s = codeSetup()\n",
    "logicalHH(s)\n",
    "print(replace(kets(s),\"\\n\"=>\"\"))\n",
    "print(\"\\nOr in logical basis\\n\")\n",
    "print(getLogicalState(s))"
   ]
  },
  {
   "cell_type": "markdown",
   "metadata": {},
   "source": [
    "Then when we apply the phases we would expect them all to be negative other than |00000> and |11110>"
   ]
  },
  {
   "cell_type": "code",
   "execution_count": 34,
   "metadata": {},
   "outputs": [
    {
     "name": "stdout",
     "output_type": "stream",
     "text": [
      "+|00000> -|11000> -|01100> -|10100> -|00110> +|11110> -|01010> -|10010> \n",
      "Or in logical basis\n",
      "+|00> -|01> -|10> -|11> "
     ]
    }
   ],
   "source": [
    "function applyPhases(s)\n",
    "    for i = 1:4\n",
    "        phase(s,i)\n",
    "    end\n",
    "end\n",
    "\n",
    "s = codeSetup()\n",
    "logicalHH(s)\n",
    "applyPhases(s)\n",
    "print(replace(kets(s),\"\\n\"=>\"\"))\n",
    "print(\"\\nOr in logical basis\\n\")\n",
    "print(getLogicalState(s))"
   ]
  },
  {
   "cell_type": "markdown",
   "metadata": {},
   "source": [
    "Similarly with the others, we would expect ALL the signs to change other than |00000> and |11110>"
   ]
  },
  {
   "cell_type": "code",
   "execution_count": 35,
   "metadata": {},
   "outputs": [
    {
     "name": "stdout",
     "output_type": "stream",
     "text": [
      "XI: +|00000> -|11000> -|01100> +|10100> -|00110> +|11110> +|01010> -|10010> \n",
      "->: +|00000> +|11000> +|01100> -|10100> +|00110> +|11110> -|01010> +|10010> \n",
      "------------------------------------------------------------------------------------------------\n",
      "IX: +|00000> +|11000> -|01100> -|10100> +|00110> +|11110> -|01010> -|10010> \n",
      "->: +|00000> -|11000> +|01100> +|10100> -|00110> +|11110> +|01010> +|10010> \n",
      "------------------------------------------------------------------------------------------------\n",
      "XX: +|00000> -|11000> +|01100> -|10100> -|00110> +|11110> -|01010> +|10010> \n",
      "->: +|00000> +|11000> -|01100> +|10100> +|00110> +|11110> +|01010> -|10010> \n",
      "------------------------------------------------------------------------------------------------\n",
      "\n",
      "\n",
      "Or thinking about this logically\n",
      "\n",
      "XI: +|00> -|01> +|10> -|11> \n",
      "->: +|00> +|01> -|10> +|11> \n",
      "------------------------------------------------------------------------------------------------\n",
      "IX: +|00> +|01> -|10> -|11> \n",
      "->: +|00> -|01> +|10> +|11> \n",
      "------------------------------------------------------------------------------------------------\n",
      "XX: +|00> -|01> -|10> +|11> \n",
      "->: +|00> +|01> +|10> -|11> \n",
      "------------------------------------------------------------------------------------------------\n"
     ]
    }
   ],
   "source": [
    "s = codeSetup()\n",
    "logicalX(s,1)\n",
    "logicalHH(s)\n",
    "print(\"XI: $(replace(kets(s),\"\\n\"=>\"\"))\\n\")\n",
    "applyPhases(s)\n",
    "print(\"->: $(replace(kets(s),\"\\n\"=>\"\"))\\n\")\n",
    "print(\"------------------------------------------------------------------------------------------------\\n\")\n",
    "s = codeSetup()\n",
    "logicalX(s,2)\n",
    "logicalHH(s)\n",
    "print(\"IX: $(replace(kets(s),\"\\n\"=>\"\"))\\n\")\n",
    "applyPhases(s)\n",
    "print(\"->: $(replace(kets(s),\"\\n\"=>\"\"))\\n\")\n",
    "print(\"------------------------------------------------------------------------------------------------\\n\")\n",
    "s = codeSetup()\n",
    "logicalX(s,1)\n",
    "logicalX(s,2)\n",
    "logicalHH(s)\n",
    "print(\"XX: $(replace(kets(s),\"\\n\"=>\"\"))\\n\")\n",
    "applyPhases(s)\n",
    "print(\"->: $(replace(kets(s),\"\\n\"=>\"\"))\\n\")\n",
    "print(\"------------------------------------------------------------------------------------------------\\n\")\n",
    "\n",
    "print(\"\\n\\nOr thinking about this logically\\n\\n\")\n",
    "\n",
    "s = codeSetup()\n",
    "logicalX(s,1)\n",
    "logicalHH(s)\n",
    "print(\"XI: $(getLogicalState(s))\\n\")\n",
    "applyPhases(s)\n",
    "print(\"->: $(getLogicalState(s))\\n\")\n",
    "print(\"------------------------------------------------------------------------------------------------\\n\")\n",
    "s = codeSetup()\n",
    "logicalX(s,2)\n",
    "logicalHH(s)\n",
    "print(\"IX: $(getLogicalState(s))\\n\")\n",
    "applyPhases(s)\n",
    "print(\"->: $(getLogicalState(s))\\n\")\n",
    "print(\"------------------------------------------------------------------------------------------------\\n\")\n",
    "s = codeSetup()\n",
    "logicalX(s,1)\n",
    "logicalX(s,2)\n",
    "logicalHH(s)\n",
    "print(\"XX: $(getLogicalState(s))\\n\")\n",
    "applyPhases(s)\n",
    "print(\"->: $(getLogicalState(s))\\n\")\n",
    "print(\"------------------------------------------------------------------------------------------------\\n\")"
   ]
  },
  {
   "cell_type": "markdown",
   "metadata": {},
   "source": [
    "### Works as advertised!"
   ]
  },
  {
   "cell_type": "markdown",
   "metadata": {},
   "source": [
    "# Cliffords and stabilizers oh my!"
   ]
  },
  {
   "cell_type": "markdown",
   "metadata": {},
   "source": [
    "Here I will briefly discuss the 'symplectic' mapping between numbers and Cliffords. More details in: Koenig/Smolin arXiv:quant-ph/1406.2170\n",
    "[Koenig/Smolin arXiv:quant-ph/1406.2170](https://arxiv.org/abs/1406.2170)\n",
    "\n",
    "The easiest way to get a stabilised state that represents the actions of a Clifford on the start state is to use the inbuilt cliffordToTableau and tableauToClifford commands.\n",
    "\n",
    "This is a one-one mapping between the integers and the cliffords\n",
    "For each 'symplectic' the X, and Z maps (the rows in the Tableaus) can be +1 or -1 which means\n",
    "There are an additional 2^d*2^d cliffords 'per' symplectic, in the stabilizer formalism this is the $r_1\\ldots r_{2n}$ of the matrix above\n",
    "\n",
    "\n",
    "\n",
    "- So cliffordToTableau(7,62345,0) gives you the mapping for 7 qubit, symplectic 62345\n",
    "- tableauToClifford(x::Tableau), will give you the 'number' of the clifford (modulo the phase stuff)\n",
    "\n"
   ]
  },
  {
   "cell_type": "code",
   "execution_count": 36,
   "metadata": {},
   "outputs": [
    {
     "data": {
      "text/latex": [
       "\\begin{equation*} \\left(\\begin{array}{l|c*{7}c} +& & X  &  Y  &  I  &  Z  &  Y  &  I  &  Y  \\\\\n",
       " +& & Z  &  Z  &  I  &  Z  &  Y  &  I  &  Y  \\\\\n",
       " +& & I  &  I  &  X  &  I  &  I  &  I  &  I  \\\\\n",
       " +& & Z  &  Y  &  I  &  Y  &  Y  &  I  &  Y  \\\\\n",
       " +& & Z  &  Y  &  I  &  Z  &  Z  &  I  &  Y  \\\\\n",
       " +& & I  &  I  &  I  &  I  &  I  &  X  &  I  \\\\\n",
       " +& & Z  &  Y  &  I  &  Z  &  Y  &  I  &  Z  \\\\\n",
       " \\hline\n",
       " +& & X  &  X  &  I  &  I  &  I  &  I  &  I  \\\\\n",
       " +& & X  &  I  &  I  &  Z  &  Y  &  I  &  Y  \\\\\n",
       " +& & I  &  I  &  Z  &  I  &  I  &  I  &  I  \\\\\n",
       " +& & I  &  I  &  I  &  Z  &  I  &  I  &  I  \\\\\n",
       " +& & Z  &  Y  &  I  &  Z  &  X  &  I  &  Y  \\\\\n",
       " +& & I  &  I  &  I  &  I  &  I  &  Z  &  I  \\\\\n",
       " +& & Z  &  Y  &  I  &  Z  &  Y  &  I  &  X  \\\\\n",
       " \\end{array}\\right)\\\\\\end{equation*}"
      ],
      "text/plain": [
       "\n",
       "+XYIZYIY\n",
       "+ZZIZYIY\n",
       "+IIXIIII\n",
       "+ZYIYYIY\n",
       "+ZYIZZIY\n",
       "+IIIIIXI\n",
       "+ZYIZYIZ\n",
       "--------\n",
       "+XXIIIII\n",
       "+XIIZYIY\n",
       "+IIZIIII\n",
       "+IIIZIII\n",
       "+ZYIZXIY\n",
       "+IIIIIZI\n",
       "+ZYIZYIX\n"
      ]
     },
     "execution_count": 36,
     "metadata": {},
     "output_type": "execute_result"
    }
   ],
   "source": [
    "x = cliffordToTableau(7,62345,0)"
   ]
  },
  {
   "cell_type": "code",
   "execution_count": 37,
   "metadata": {},
   "outputs": [
    {
     "data": {
      "text/plain": [
       "62345"
      ]
     },
     "execution_count": 37,
     "metadata": {},
     "output_type": "execute_result"
    }
   ],
   "source": [
    "tableauToClifford(x)"
   ]
  },
  {
   "cell_type": "code",
   "execution_count": 38,
   "metadata": {},
   "outputs": [
    {
     "data": {
      "text/latex": [
       "\\begin{equation*} \\left(\\begin{array}{l|c*{7}c} +& & X  &  Y  &  I  &  Z  &  Y  &  I  &  Y  \\\\\n",
       " -& & Z  &  Z  &  I  &  Z  &  Y  &  I  &  Y  \\\\\n",
       " +& & I  &  I  &  X  &  I  &  I  &  I  &  I  \\\\\n",
       " -& & Z  &  Y  &  I  &  Y  &  Y  &  I  &  Y  \\\\\n",
       " +& & Z  &  Y  &  I  &  Z  &  Z  &  I  &  Y  \\\\\n",
       " +& & I  &  I  &  I  &  I  &  I  &  X  &  I  \\\\\n",
       " +& & Z  &  Y  &  I  &  Z  &  Y  &  I  &  Z  \\\\\n",
       " \\hline\n",
       " +& & X  &  X  &  I  &  I  &  I  &  I  &  I  \\\\\n",
       " +& & X  &  I  &  I  &  Z  &  Y  &  I  &  Y  \\\\\n",
       " +& & I  &  I  &  Z  &  I  &  I  &  I  &  I  \\\\\n",
       " +& & I  &  I  &  I  &  Z  &  I  &  I  &  I  \\\\\n",
       " +& & Z  &  Y  &  I  &  Z  &  X  &  I  &  Y  \\\\\n",
       " +& & I  &  I  &  I  &  I  &  I  &  Z  &  I  \\\\\n",
       " +& & Z  &  Y  &  I  &  Z  &  Y  &  I  &  X  \\\\\n",
       " \\end{array}\\right)\\\\\\end{equation*}"
      ],
      "text/plain": [
       "\n",
       "+XYIZYIY\n",
       "-ZZIZYIY\n",
       "+IIXIIII\n",
       "-ZYIYYIY\n",
       "+ZYIZZIY\n",
       "+IIIIIXI\n",
       "+ZYIZYIZ\n",
       "--------\n",
       "+XXIIIII\n",
       "+XIIZYIY\n",
       "+IIZIIII\n",
       "+IIIZIII\n",
       "+ZYIZXIY\n",
       "+IIIIIZI\n",
       "+ZYIZYIX\n"
      ]
     },
     "execution_count": 38,
     "metadata": {},
     "output_type": "execute_result"
    }
   ],
   "source": [
    "# Note the +/- changes\n",
    "x = cliffordToTableau(7,62345,10)"
   ]
  },
  {
   "cell_type": "code",
   "execution_count": 39,
   "metadata": {},
   "outputs": [
    {
     "data": {
      "text/plain": [
       "62345"
      ]
     },
     "execution_count": 39,
     "metadata": {},
     "output_type": "execute_result"
    }
   ],
   "source": [
    "# Modulo the phase stuff\n",
    "tableauToClifford(x)"
   ]
  },
  {
   "cell_type": "markdown",
   "metadata": {},
   "source": [
    "We might want to make the cliffords"
   ]
  },
  {
   "cell_type": "code",
   "execution_count": 40,
   "metadata": {},
   "outputs": [
    {
     "data": {
      "text/latex": [
       "\\begin{equation*} \\left(\\begin{array}{*{4}c} 0.5 + 0.0im & 0.0 + 0.5im & 0.5 + 0.0im & 0.0 - 0.5im \\\\ -0.5 + 0.0im & 0.0 + 0.5im & -0.5 + 0.0im & 0.0 - 0.5im \\\\ -0.5 + 0.0im & 0.0 - 0.5im & 0.5 + 0.0im & 0.0 - 0.5im \\\\ 0.5 + 0.0im & 0.0 - 0.5im & -0.5 + 0.0im & 0.0 - 0.5im \\\\ \\end{array}\\right)\\\\\\end{equation*}"
      ],
      "text/plain": [
       "4×4 Matrix{ComplexF64}:\n",
       "  0.5+0.0im  0.0+0.5im   0.5+0.0im  0.0-0.5im\n",
       " -0.5+0.0im  0.0+0.5im  -0.5+0.0im  0.0-0.5im\n",
       " -0.5+0.0im  0.0-0.5im   0.5+0.0im  0.0-0.5im\n",
       "  0.5+0.0im  0.0-0.5im  -0.5+0.0im  0.0-0.5im"
      ]
     },
     "execution_count": 40,
     "metadata": {},
     "output_type": "execute_result"
    }
   ],
   "source": [
    "twoClifford = cliffordToTableau(2,2341,3)\n",
    "actualClifford = round.(makeFromCommand(twoClifford),digits=10)"
   ]
  },
  {
   "cell_type": "markdown",
   "metadata": {},
   "source": [
    "or decompose it to see the commands that make it up, these are unlikely to be optimal."
   ]
  },
  {
   "cell_type": "code",
   "execution_count": 41,
   "metadata": {},
   "outputs": [
    {
     "data": {
      "text/plain": [
       "13-element Vector{String}:\n",
       " \"initialise(2)\"\n",
       " \"phase(2)\"\n",
       " \"phase(2)\"\n",
       " \"phase(1)\"\n",
       " \"phase(1)\"\n",
       " \"hadamard(2)\"\n",
       " \"hadamard(1)\"\n",
       " \"cnot(2,1)\"\n",
       " \"phase(1)\"\n",
       " \"cnot(2,1)\"\n",
       " \"phase(1)\"\n",
       " \"phase(1)\"\n",
       " \"phase(1)\""
      ]
     },
     "execution_count": 41,
     "metadata": {},
     "output_type": "execute_result"
    }
   ],
   "source": [
    "twoClifford.commands"
   ]
  },
  {
   "cell_type": "code",
   "execution_count": 42,
   "metadata": {},
   "outputs": [
    {
     "name": "stdout",
     "output_type": "stream",
     "text": [
      "#Pass in the circuit and qubit register\n",
      "def createCircuit(circs,qreg):\n",
      "    circs.s(qreg[2])\n",
      "    circs.s(qreg[2])\n",
      "    circs.s(qreg[1])\n",
      "    circs.s(qreg[1])\n",
      "    circs.h(qreg[2])\n",
      "    circs.h(qreg[1])\n",
      "    circs.cx(qreg[2],qreg[1])\n",
      "    circs.s(qreg[1])\n",
      "    circs.cx(qreg[2],qreg[1])\n",
      "    circs.s(qreg[1])\n",
      "    circs.s(qreg[1])\n",
      "    circs.s(qreg[1])"
     ]
    }
   ],
   "source": [
    "#We can qiskit it.\n",
    "print(qiskitCircuit(twoClifford))"
   ]
  },
  {
   "cell_type": "code",
   "execution_count": 43,
   "metadata": {},
   "outputs": [
    {
     "data": {
      "image/png": "[encoded data removed]"
     },
     "metadata": {},
     "output_type": "display_data"
    }
   ],
   "source": [
    "# or draw it\n",
    "displaycircuit(quantikzCircuit(twoClifford))"
   ]
  },
  {
   "cell_type": "code",
   "execution_count": 44,
   "metadata": {},
   "outputs": [
    {
     "data": {
      "text/latex": [
       "\\begin{equation*} \\left(\\begin{array}{*{16}c} 1.0 & 0.0 & 0.0 & 0.0 & 0.0 & 0.0 & 0.0 & 0.0 & 0.0 & 0.0 & 0.0 & 0.0 & 0.0 & 0.0 & 0.0 & 0.0 \\\\ 0.0 & 0.0 & 0.0 & -1.0 & 0.0 & 0.0 & 0.0 & 0.0 & 0.0 & 0.0 & 0.0 & 0.0 & 0.0 & 0.0 & 0.0 & 0.0 \\\\ 0.0 & 0.0 & 0.0 & 0.0 & 0.0 & 0.0 & 0.0 & 0.0 & 0.0 & 0.0 & 0.0 & 0.0 & 0.0 & 1.0 & 0.0 & 0.0 \\\\ 0.0 & 0.0 & 0.0 & 0.0 & 0.0 & 0.0 & 0.0 & 0.0 & 0.0 & 0.0 & 0.0 & 0.0 & 0.0 & 0.0 & -1.0 & 0.0 \\\\ 0.0 & 0.0 & 0.0 & 0.0 & 0.0 & 0.0 & 0.0 & 0.0 & 0.0 & 0.0 & 0.0 & 0.0 & -1.0 & 0.0 & 0.0 & 0.0 \\\\ 0.0 & 0.0 & 0.0 & 0.0 & 0.0 & 0.0 & 0.0 & 0.0 & 0.0 & 0.0 & 0.0 & 0.0 & 0.0 & 0.0 & 0.0 & 1.0 \\\\ 0.0 & -1.0 & 0.0 & 0.0 & 0.0 & 0.0 & 0.0 & 0.0 & 0.0 & 0.0 & 0.0 & 0.0 & 0.0 & 0.0 & 0.0 & 0.0 \\\\ 0.0 & 0.0 & 1.0 & 0.0 & 0.0 & 0.0 & 0.0 & 0.0 & 0.0 & 0.0 & 0.0 & 0.0 & 0.0 & 0.0 & 0.0 & 0.0 \\\\ 0.0 & 0.0 & 0.0 & 0.0 & 0.0 & 0.0 & 0.0 & 0.0 & 0.0 & 0.0 & 0.0 & 1.0 & 0.0 & 0.0 & 0.0 & 0.0 \\\\ 0.0 & 0.0 & 0.0 & 0.0 & 0.0 & 0.0 & 0.0 & 0.0 & -1.0 & 0.0 & 0.0 & 0.0 & 0.0 & 0.0 & 0.0 & 0.0 \\\\ 0.0 & 0.0 & 0.0 & 0.0 & 0.0 & 0.0 & -1.0 & 0.0 & 0.0 & 0.0 & 0.0 & 0.0 & 0.0 & 0.0 & 0.0 & 0.0 \\\\ 0.0 & 0.0 & 0.0 & 0.0 & 0.0 & -1.0 & 0.0 & 0.0 & 0.0 & 0.0 & 0.0 & 0.0 & 0.0 & 0.0 & 0.0 & 0.0 \\\\ 0.0 & 0.0 & 0.0 & 0.0 & 0.0 & 0.0 & 0.0 & 1.0 & 0.0 & 0.0 & 0.0 & 0.0 & 0.0 & 0.0 & 0.0 & 0.0 \\\\ 0.0 & 0.0 & 0.0 & 0.0 & -1.0 & 0.0 & 0.0 & 0.0 & 0.0 & 0.0 & 0.0 & 0.0 & 0.0 & 0.0 & 0.0 & 0.0 \\\\ 0.0 & 0.0 & 0.0 & 0.0 & 0.0 & 0.0 & 0.0 & 0.0 & 0.0 & 0.0 & 1.0 & 0.0 & 0.0 & 0.0 & 0.0 & 0.0 \\\\ 0.0 & 0.0 & 0.0 & 0.0 & 0.0 & 0.0 & 0.0 & 0.0 & 0.0 & 1.0 & 0.0 & 0.0 & 0.0 & 0.0 & 0.0 & 0.0 \\\\ \\end{array}\\right)\\\\\\end{equation*}"
      ],
      "text/plain": [
       "16×16 Matrix{Float64}:\n",
       " 1.0   0.0  0.0   0.0   0.0   0.0  …  0.0  0.0  0.0   0.0  0.0   0.0  0.0\n",
       " 0.0   0.0  0.0  -1.0   0.0   0.0     0.0  0.0  0.0   0.0  0.0   0.0  0.0\n",
       " 0.0   0.0  0.0   0.0   0.0   0.0     0.0  0.0  0.0   0.0  1.0   0.0  0.0\n",
       " 0.0   0.0  0.0   0.0   0.0   0.0     0.0  0.0  0.0   0.0  0.0  -1.0  0.0\n",
       " 0.0   0.0  0.0   0.0   0.0   0.0     0.0  0.0  0.0  -1.0  0.0   0.0  0.0\n",
       " 0.0   0.0  0.0   0.0   0.0   0.0  …  0.0  0.0  0.0   0.0  0.0   0.0  1.0\n",
       " 0.0  -1.0  0.0   0.0   0.0   0.0     0.0  0.0  0.0   0.0  0.0   0.0  0.0\n",
       " 0.0   0.0  1.0   0.0   0.0   0.0     0.0  0.0  0.0   0.0  0.0   0.0  0.0\n",
       " 0.0   0.0  0.0   0.0   0.0   0.0     0.0  0.0  1.0   0.0  0.0   0.0  0.0\n",
       " 0.0   0.0  0.0   0.0   0.0   0.0     0.0  0.0  0.0   0.0  0.0   0.0  0.0\n",
       " 0.0   0.0  0.0   0.0   0.0   0.0  …  0.0  0.0  0.0   0.0  0.0   0.0  0.0\n",
       " 0.0   0.0  0.0   0.0   0.0  -1.0     0.0  0.0  0.0   0.0  0.0   0.0  0.0\n",
       " 0.0   0.0  0.0   0.0   0.0   0.0     0.0  0.0  0.0   0.0  0.0   0.0  0.0\n",
       " 0.0   0.0  0.0   0.0  -1.0   0.0     0.0  0.0  0.0   0.0  0.0   0.0  0.0\n",
       " 0.0   0.0  0.0   0.0   0.0   0.0     0.0  1.0  0.0   0.0  0.0   0.0  0.0\n",
       " 0.0   0.0  0.0   0.0   0.0   0.0  …  1.0  0.0  0.0   0.0  0.0   0.0  0.0"
      ]
     },
     "execution_count": 44,
     "metadata": {},
     "output_type": "execute_result"
    }
   ],
   "source": [
    "# or superOperator it\n",
    "makeSuper(actualClifford)"
   ]
  },
  {
   "cell_type": "code",
   "execution_count": 45,
   "metadata": {},
   "outputs": [
    {
     "data": {
      "text/plain": [
       "1451520"
      ]
     },
     "execution_count": 45,
     "metadata": {},
     "output_type": "execute_result"
    }
   ],
   "source": [
    "# if we are curious there are this many 'symplectic' three qubit cliffords\n",
    "getNumberOfSymplecticCliffords(3)"
   ]
  },
  {
   "cell_type": "code",
   "execution_count": 46,
   "metadata": {},
   "outputs": [
    {
     "data": {
      "text/plain": [
       "64"
      ]
     },
     "execution_count": 46,
     "metadata": {},
     "output_type": "execute_result"
    }
   ],
   "source": [
    "# and phases\n",
    "getNumberOfBitStringsCliffords(3)"
   ]
  },
  {
   "cell_type": "code",
   "execution_count": 47,
   "metadata": {},
   "outputs": [
    {
     "data": {
      "text/plain": [
       "92897280"
      ]
     },
     "execution_count": 47,
     "metadata": {},
     "output_type": "execute_result"
    }
   ],
   "source": [
    "# for a total of \n",
    "getNumberOfSymplecticCliffords(3)*getNumberOfBitStringsCliffords(3)"
   ]
  },
  {
   "cell_type": "code",
   "execution_count": 48,
   "metadata": {},
   "outputs": [
    {
     "data": {
      "text/plain": [
       "92897280"
      ]
     },
     "execution_count": 48,
     "metadata": {},
     "output_type": "execute_result"
    }
   ],
   "source": [
    "# or just\n",
    "getNumberOfCliffords(3)"
   ]
  },
  {
   "cell_type": "code",
   "execution_count": 49,
   "metadata": {},
   "outputs": [
    {
     "data": {
      "text/plain": [
       "27930968965434591767112450048000"
      ]
     },
     "execution_count": 49,
     "metadata": {},
     "output_type": "execute_result"
    }
   ],
   "source": [
    "# With seven its a big number!\n",
    "getNumberOfSymplecticCliffords(7)"
   ]
  },
  {
   "cell_type": "code",
   "execution_count": 50,
   "metadata": {},
   "outputs": [
    {
     "data": {
      "text/latex": [
       "\\begin{equation*} \\left(\\begin{array}{l|c*{7}c} +& & Y  &  Y  &  Y  &  Y  &  Y  &  Y  &  Y  \\\\\n",
       " +& & I  &  Y  &  Y  &  Y  &  Y  &  Y  &  Y  \\\\\n",
       " +& & I  &  I  &  Y  &  Y  &  Y  &  Y  &  Y  \\\\\n",
       " +& & I  &  I  &  I  &  Y  &  Y  &  Y  &  Y  \\\\\n",
       " +& & I  &  I  &  I  &  I  &  Y  &  Y  &  Y  \\\\\n",
       " +& & I  &  I  &  I  &  I  &  I  &  Y  &  Y  \\\\\n",
       " +& & I  &  I  &  I  &  I  &  I  &  I  &  Y  \\\\\n",
       " \\hline\n",
       " +& & X  &  I  &  I  &  I  &  I  &  I  &  I  \\\\\n",
       " +& & X  &  Z  &  Y  &  Y  &  Y  &  Y  &  Y  \\\\\n",
       " +& & I  &  X  &  Z  &  Y  &  Y  &  Y  &  Y  \\\\\n",
       " +& & I  &  I  &  X  &  Z  &  Y  &  Y  &  Y  \\\\\n",
       " +& & I  &  I  &  I  &  X  &  Z  &  Y  &  Y  \\\\\n",
       " +& & I  &  I  &  I  &  I  &  X  &  Z  &  Y  \\\\\n",
       " +& & I  &  I  &  I  &  I  &  I  &  X  &  Z  \\\\\n",
       " \\end{array}\\right)\\\\\\end{equation*}"
      ],
      "text/plain": [
       "\n",
       "+YYYYYYY\n",
       "+IYYYYYY\n",
       "+IIYYYYY\n",
       "+IIIYYYY\n",
       "+IIIIYYY\n",
       "+IIIIIYY\n",
       "+IIIIIIY\n",
       "--------\n",
       "+XIIIIII\n",
       "+XZYYYYY\n",
       "+IXZYYYY\n",
       "+IIXZYYY\n",
       "+IIIXZYY\n",
       "+IIIIXZY\n",
       "+IIIIIXZ\n"
      ]
     },
     "execution_count": 50,
     "metadata": {},
     "output_type": "execute_result"
    }
   ],
   "source": [
    "# But we use BigInt so its ok!\n",
    "c7 = cliffordToTableau(7,27930968965434591767112450047999,0)"
   ]
  },
  {
   "cell_type": "code",
   "execution_count": 51,
   "metadata": {},
   "outputs": [
    {
     "data": {
      "image/png": "[encoded data removed]"
     },
     "metadata": {},
     "output_type": "display_data"
    }
   ],
   "source": [
    "displaycircuit(quantikzCircuit(c7))"
   ]
  },
  {
   "cell_type": "code",
   "execution_count": 52,
   "metadata": {},
   "outputs": [
    {
     "data": {
      "text/latex": [
       "\\begin{equation*} \\left(\\begin{array}{l|c*{10}c} -& & Y  &  X  &  I  &  I  &  Z  &  Z  &  Y  &  I  &  I  &  X  \\\\\n",
       " +& & Z  &  Z  &  Z  &  Y  &  X  &  I  &  Z  &  I  &  Z  &  I  \\\\\n",
       " +& & I  &  Y  &  Y  &  X  &  I  &  X  &  I  &  X  &  X  &  I  \\\\\n",
       " +& & I  &  Z  &  Y  &  Z  &  I  &  Y  &  Y  &  Z  &  X  &  I  \\\\\n",
       " +& & Z  &  Y  &  Y  &  X  &  Y  &  Y  &  X  &  I  &  Y  &  Z  \\\\\n",
       " +& & Y  &  I  &  X  &  X  &  Y  &  Y  &  Y  &  I  &  X  &  I  \\\\\n",
       " +& & X  &  Z  &  Y  &  Z  &  I  &  Y  &  I  &  X  &  Y  &  Y  \\\\\n",
       " +& & X  &  Z  &  Z  &  X  &  Z  &  Z  &  Z  &  X  &  Y  &  Z  \\\\\n",
       " +& & Y  &  Y  &  Y  &  Z  &  Y  &  I  &  Z  &  X  &  Y  &  Y  \\\\\n",
       " +& & I  &  I  &  Y  &  X  &  X  &  Z  &  Z  &  Y  &  I  &  X  \\\\\n",
       " \\hline\n",
       " +& & Z  &  Y  &  Z  &  Y  &  I  &  Y  &  X  &  Z  &  I  &  Z  \\\\\n",
       " +& & I  &  Z  &  Z  &  X  &  X  &  Y  &  Z  &  I  &  Z  &  X  \\\\\n",
       " +& & X  &  I  &  I  &  I  &  Z  &  Z  &  X  &  I  &  X  &  I  \\\\\n",
       " +& & I  &  Z  &  I  &  X  &  I  &  Y  &  X  &  Z  &  Z  &  Z  \\\\\n",
       " +& & Z  &  Y  &  X  &  X  &  Y  &  I  &  Y  &  I  &  Y  &  Y  \\\\\n",
       " +& & Y  &  Y  &  Y  &  X  &  Y  &  Z  &  X  &  Z  &  I  &  Z  \\\\\n",
       " +& & Z  &  I  &  I  &  Z  &  Z  &  I  &  Z  &  Y  &  I  &  X  \\\\\n",
       " +& & Y  &  Z  &  I  &  I  &  X  &  I  &  X  &  Y  &  I  &  Y  \\\\\n",
       " +& & Y  &  I  &  Z  &  Y  &  Z  &  X  &  I  &  X  &  I  &  Y  \\\\\n",
       " +& & I  &  X  &  Y  &  X  &  Y  &  I  &  I  &  X  &  Z  &  Z  \\\\\n",
       " \\end{array}\\right)\\\\\\end{equation*}"
      ],
      "text/plain": [
       "\n",
       "-YXIIZZYIIX\n",
       "+ZZZYXIZIZI\n",
       "+IYYXIXIXXI\n",
       "+IZYZIYYZXI\n",
       "+ZYYXYYXIYZ\n",
       "+YIXXYYYIXI\n",
       "+XZYZIYIXYY\n",
       "+XZZXZZZXYZ\n",
       "+YYYZYIZXYY\n",
       "+IIYXXZZYIX\n",
       "-----------\n",
       "+ZYZYIYXZIZ\n",
       "+IZZXXYZIZX\n",
       "+XIIIZZXIXI\n",
       "+IZIXIYXZZZ\n",
       "+ZYXXYIYIYY\n",
       "+YYYXYZXZIZ\n",
       "+ZIIZZIZYIX\n",
       "+YZIIXIXYIY\n",
       "+YIZYZXIXIY\n",
       "+IXYXYIIXZZ\n"
      ]
     },
     "execution_count": 52,
     "metadata": {},
     "output_type": "execute_result"
    }
   ],
   "source": [
    "# Want a the stabilizers of a random 14 qubit Clifford?\n",
    "ct = cliffordToTableau(10,rand(1:getNumberOfSymplecticCliffords(10)),1)"
   ]
  },
  {
   "cell_type": "code",
   "execution_count": 53,
   "metadata": {},
   "outputs": [
    {
     "data": {
      "image/png": "[encoded data removed]"
     },
     "metadata": {},
     "output_type": "display_data"
    }
   ],
   "source": [
    "displaycircuit(quantikzCircuit(ct))"
   ]
  },
  {
   "cell_type": "markdown",
   "metadata": {},
   "source": [
    "but I am certainly not game to try and turn that into a superoperator (a matrix of $2^{20} \\times 2^{20}$)"
   ]
  },
  {
   "cell_type": "markdown",
   "metadata": {},
   "source": [
    "However, if we keep things small we can certainly use this to generate all the Cliffords. So for instance if you wanted superoperators for all of the two qubit cliffords (11,520 of them). You could do the following:"
   ]
  },
  {
   "cell_type": "code",
   "execution_count": 54,
   "metadata": {},
   "outputs": [
    {
     "name": "stdout",
     "output_type": "stream",
     "text": [
      "11520 - created.\n"
     ]
    }
   ],
   "source": [
    "twoQubitCliffords = []\n",
    "for i = 1:getNumberOfSymplecticCliffords(2)\n",
    "    for j = 1:getNumberOfBitStringsCliffords(2)\n",
    "        push!(twoQubitCliffords,makeSuper(makeFromCommand(cliffordToTableau(2,i,j))))\n",
    "    end\n",
    "end\n",
    "print(\"$(length(twoQubitCliffords)) - created.\\n\")"
   ]
  },
  {
   "cell_type": "markdown",
   "metadata": {},
   "source": [
    "## Supplementary information\n",
    "\n",
    "### Note - this is the old method of printing circuts.\n",
    "\n",
    "I have migrated to using Quantikz.jl, which is a lot nicer. The following code is still present, but unless you are having problems with Quantikz.jl, just ignore.\n",
    "\n",
    "\n",
    "If you want to plot circuits, then you will also need the following additional code:\n",
    "\n",
    "Note: if you don't need to plot the circuits, then just ignore.\n",
    "\n",
    "The code is based on a python package called PlotQCircuit (by Rick Muller). There is some Julia Code that acts as a bridge into this. It's perfectly easy to load, we just need the correct files in the correct places, unfortunately I haven't yet figured out a better way to do this.\n",
    "\n",
    "The julia code needs to be specified in the include statement. Just now that is in an 'additionalJuliaCode' folder, which is directly off the directory this workbook is run in.\n",
    "\n",
    "The python code is in a directory called 'additionalPythonCode', this is the fidly one. It NEEDS to be in the working directory of the jupyter notebook (typically the directory it is run in). If you are not sure you can run the command:\n",
    "\n",
    "`\n",
    "pwd()\n",
    "`\n",
    "\n",
    "and make sure that you have the 'additionalPythonCode' folder (which must also contain the PlotQCircuit folder) in that directory. (or change the current working directory or change the code in plotCircuits.jl to load the correct directory).\n",
    "If this is not correct, you will typically get something like `PyError (PyImport_ImportModule` which basically means it could NOT find the code we need.\n"
   ]
  },
  {
   "cell_type": "code",
   "execution_count": null,
   "metadata": {},
   "outputs": [],
   "source": []
  }
 ],
 "metadata": {
  "@webio": {
   "lastCommId": null,
   "lastKernelId": null
  },
  "kernelspec": {
   "display_name": "Julia 1.8.1",
   "language": "julia",
   "name": "julia-1.8"
  },
  "language_info": {
   "file_extension": ".jl",
   "mimetype": "application/julia",
   "name": "julia",
   "version": "1.8.1"
  }
 },
 "nbformat": 4,
 "nbformat_minor": 2
}
