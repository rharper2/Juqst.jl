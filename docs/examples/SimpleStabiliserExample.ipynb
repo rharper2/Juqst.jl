{
 "cells": [
  {
   "cell_type": "code",
   "execution_count": 1,
   "metadata": {},
   "outputs": [],
   "source": [
    "using Juqst"
   ]
  },
  {
   "cell_type": "markdown",
   "metadata": {},
   "source": [
    "You can get the software I am using from: https://github.com/rharper2/Juqst.jl\n",
    "\n",
    "But basically all I am using it for here, is that it implements: arXiv:quant-ph/0406196v5 (the Aaronson/Gottesman paper).\n",
    "\n",
    "The workbook \"A stabiliser run through\" contains more detailed information, how to print circuits and a basic run through of the [[4,2,2]] code. "
   ]
  },
  {
   "cell_type": "markdown",
   "metadata": {},
   "source": [
    "So the stabilisers you have are:\n",
    "\n",
    "```\n",
    "IIZZ\n",
    "ZIIZ\n",
    "IYIZ\n",
    "XZXY\n",
    "```\n",
    "\n",
    "And what we want to do is to work out what Clifford makes that group."
   ]
  },
  {
   "cell_type": "markdown",
   "metadata": {},
   "source": [
    "The stabiliser formalism is as follows\n",
    "\n",
    "```\n",
    " x11   .....  x1n  | z11   ...       z1n | r1\n",
    "  .    \\\\       .  |  .    \\\\          . |  .\n",
    "  .     \\\\      .  |  .     \\\\         . |  .     Destabilisers\n",
    "  .      \\\\     .  |  .      \\\\        . |  .\n",
    " xn1      \\\\   xnn | zn1      \\\\      znn| rn\n",
    " ______________________________________________\n",
    " x(n+1)1. x(n+1)n  | z(n+1) ... z(n+1)n  | r(n+1)\n",
    "  .    \\\\       .  |  .      \\\\        . |  .\n",
    "  .     \\\\      .  |  .       \\\\       . |  .     Stabilisers\n",
    "  .      \\\\     .  |  .        \\\\      . |  .\n",
    " x(2n)1   \\\\x(2n)n | z(2n)1     \\\\ z(2n)n| r(2n)\n",
    "```\n",
    "\n",
    "Where we use the fact that any Pauli can be split into X and Z.\n",
    "\n",
    "So \n",
    "\n",
    "- 10 represents X\n",
    "- 01 represents Z\n",
    "- 11 represents Y\n",
    "\n"
   ]
  },
  {
   "cell_type": "markdown",
   "metadata": {},
   "source": [
    "We then take our stabilisers and we can trivially transform into these strings:\n",
    "\n",
    "- IIZZ becomes 0000 0011\n",
    "- ZIIZ becomes 0000 1001\n",
    "- IYIZ becomes 0100 0101\n",
    "- XZXY becomes 1011 0101\n",
    "\n"
   ]
  },
  {
   "cell_type": "markdown",
   "metadata": {},
   "source": [
    "That's the easy bit - the destabilisers are a bit more tricky - what we are looking for are Paulis that do not commute with one of the stabilisers but do commute with the others and all the other destabilisers. \n",
    "\n",
    "Any time I have had to do this I do it by hand - there is probably an automatic way.\n",
    "\n",
    "So for instance XZIY anti-commutes with IIZZ but commutes with all the others.\n",
    "\n",
    "Our destabiliser can therefore be:\n",
    "\n",
    "- XZIY = 1001 0101\n",
    "- IZXY = 0011 0101\n",
    "- IZII = 0000 0100\n",
    "- YIZZ = 1000 1011\n",
    "\n"
   ]
  },
  {
   "cell_type": "code",
   "execution_count": 2,
   "metadata": {},
   "outputs": [
    {
     "data": {
      "text/latex": [
       "\\begin{equation*} \\left(\\begin{array}{l|c*{4}c} +& & X  &  I  &  I  &  I  \\\\\n",
       " +& & I  &  X  &  I  &  I  \\\\\n",
       " +& & I  &  I  &  X  &  I  \\\\\n",
       " +& & I  &  I  &  I  &  X  \\\\\n",
       " \\hline\n",
       " +& & Z  &  I  &  I  &  I  \\\\\n",
       " +& & I  &  Z  &  I  &  I  \\\\\n",
       " +& & I  &  I  &  Z  &  I  \\\\\n",
       " +& & I  &  I  &  I  &  Z  \\\\\n",
       " \\end{array}\\right)\\\\\\end{equation*}"
      ],
      "text/plain": [
       "\n",
       "+XIII\n",
       "+IXII\n",
       "+IIXI\n",
       "+IIIX\n",
       "-----\n",
       "+ZIII\n",
       "+IZII\n",
       "+IIZI\n",
       "+IIIZ\n"
      ]
     },
     "execution_count": 2,
     "metadata": {},
     "output_type": "execute_result"
    }
   ],
   "source": [
    "t = Tableau(4) # Set up a 4 qubit tableau - starts as all zero"
   ]
  },
  {
   "cell_type": "markdown",
   "metadata": {},
   "source": [
    "### What does this mean?\n",
    "\n",
    "Well the stabilisers 'stabilise' a state. What does that mean? Well let's say we have a state $|\\psi\\rangle$, and a stabiliser $\\mathcal{S}$, then it stabilises the state if $\\mathcal{S}|\\psi\\rangle=|\\psi\\rangle$, you can think of it in terms of eigenvectors. In the paper the authors give the following explanation\n",
    "\n",
    "---\n",
    "Given a pure state $|\\psi\\rangle$, we say a unitary matrix $U$ *stabilizes* $|\\psi\\rangle$ if $|\\psi\\rangle$ is an eigenvector of U with eigenvalue 1, or equivalently if $U|\\psi\\rangle = |\\psi\\rangle$, where we do not ingore global phase. To illustrate, the following table lists the Paul imtrices and their opposites, together with the unique 1-qubit states they stabilize:\n",
    "\n",
    "$$\\begin{array}{ll}X:|0\\rangle+|1\\rangle&-X: |0\\rangle-|1\\rangle\\\\Y: |0\\rangle+i|1\\rangle&-Y: |0\\rangle-i|1\\rangle\\\\Z:|0\\rangle&-Z: |1\\rangle\\end{array}$$\n",
    "\n",
    "---\n",
    "\n",
    "So lets say we start in the 'all zero' state ie. $|0000\\rangle$ for the four qubit system above.\n",
    "\n",
    "We can see that for the stabiliser $ZIII$ (which is shorthand for $Z\\otimes I\\otimes I\\otimes I$ ) (this is row 5 in the above tableau) that this is an eigenvector of $|0000\\rangle$, ie. if you applied a $ZIII$ operator to $|0000\\rangle$ you get back $|0000\\rangle$. This is true for all the different stabilisers in rows 5 through 8.\n",
    "\n",
    "Also you can see that all the destabilisers also anti-commute with their respective matching stabiliser i.e. $XIII$ with $ZIII$. Finally all the destabilisers commute with each other and the 'other' stabilisers'. Whew!"
   ]
  },
  {
   "cell_type": "code",
   "execution_count": 3,
   "metadata": {},
   "outputs": [
    {
     "data": {
      "text/latex": [
       "\\begin{equation*} \\left(\\begin{array}{*{9}c} 1 & 0 & 0 & 0 & 0 & 0 & 0 & 0 & 0 \\\\ 0 & 1 & 0 & 0 & 0 & 0 & 0 & 0 & 0 \\\\ 0 & 0 & 1 & 0 & 0 & 0 & 0 & 0 & 0 \\\\ 0 & 0 & 0 & 1 & 0 & 0 & 0 & 0 & 0 \\\\ 0 & 0 & 0 & 0 & 1 & 0 & 0 & 0 & 0 \\\\ 0 & 0 & 0 & 0 & 0 & 1 & 0 & 0 & 0 \\\\ 0 & 0 & 0 & 0 & 0 & 0 & 1 & 0 & 0 \\\\ 0 & 0 & 0 & 0 & 0 & 0 & 0 & 1 & 0 \\\\ \\end{array}\\right)\\\\\\end{equation*}"
      ],
      "text/plain": [
       "8×9 Matrix{Int32}:\n",
       " 1  0  0  0  0  0  0  0  0\n",
       " 0  1  0  0  0  0  0  0  0\n",
       " 0  0  1  0  0  0  0  0  0\n",
       " 0  0  0  1  0  0  0  0  0\n",
       " 0  0  0  0  1  0  0  0  0\n",
       " 0  0  0  0  0  1  0  0  0\n",
       " 0  0  0  0  0  0  1  0  0\n",
       " 0  0  0  0  0  0  0  1  0"
      ]
     },
     "execution_count": 3,
     "metadata": {},
     "output_type": "execute_result"
    }
   ],
   "source": [
    "t.state # the underlying state is just an array, so if we know what we want we can set it."
   ]
  },
  {
   "cell_type": "code",
   "execution_count": 4,
   "metadata": {},
   "outputs": [
    {
     "data": {
      "text/latex": [
       "\\begin{equation*} \\left(\\begin{array}{*{9}c} 1 & 0 & 0 & 1 & 0 & 1 & 0 & 1 & 0 \\\\ 0 & 0 & 1 & 1 & 0 & 1 & 0 & 1 & 0 \\\\ 0 & 0 & 0 & 0 & 0 & 1 & 0 & 0 & 0 \\\\ 0 & 0 & 0 & 0 & 1 & 0 & 1 & 1 & 0 \\\\ 0 & 0 & 0 & 0 & 0 & 0 & 1 & 1 & 0 \\\\ 0 & 0 & 0 & 0 & 1 & 0 & 0 & 1 & 0 \\\\ 0 & 1 & 0 & 0 & 0 & 1 & 0 & 1 & 0 \\\\ 1 & 0 & 1 & 1 & 0 & 1 & 0 & 1 & 1 \\\\ \\end{array}\\right)\\\\\\end{equation*}"
      ],
      "text/plain": [
       "8×9 Matrix{Int64}:\n",
       " 1  0  0  1  0  1  0  1  0\n",
       " 0  0  1  1  0  1  0  1  0\n",
       " 0  0  0  0  0  1  0  0  0\n",
       " 0  0  0  0  1  0  1  1  0\n",
       " 0  0  0  0  0  0  1  1  0\n",
       " 0  0  0  0  1  0  0  1  0\n",
       " 0  1  0  0  0  1  0  1  0\n",
       " 1  0  1  1  0  1  0  1  1"
      ]
     },
     "execution_count": 4,
     "metadata": {},
     "output_type": "execute_result"
    }
   ],
   "source": [
    "t.state = [\n",
    "    1 0 0 1 0 1 0 1 0 # XZIY\n",
    "    0 0 1 1 0 1 0 1 0 # IZXY\n",
    "    0 0 0 0 0 1 0 0 0 # IZII\n",
    "    0 0 0 0 1 0 1 1 0 # YIZZ\n",
    "    0 0 0 0 0 0 1 1 0 # IIZZ\n",
    "    0 0 0 0 1 0 0 1 0 # ZIIZ\n",
    "    0 1 0 0 0 1 0 1 0 # IYIZ\n",
    "    1 0 1 1 0 1 0 1 1 # -XZXY\n",
    "]"
   ]
  },
  {
   "cell_type": "code",
   "execution_count": 5,
   "metadata": {},
   "outputs": [
    {
     "data": {
      "text/latex": [
       "\\begin{equation*} \\left(\\begin{array}{l|c*{4}c} +& & X  &  Z  &  I  &  Y  \\\\\n",
       " +& & I  &  Z  &  X  &  Y  \\\\\n",
       " +& & I  &  Z  &  I  &  I  \\\\\n",
       " +& & Z  &  I  &  Z  &  Z  \\\\\n",
       " \\hline\n",
       " +& & I  &  I  &  Z  &  Z  \\\\\n",
       " +& & Z  &  I  &  I  &  Z  \\\\\n",
       " +& & I  &  Y  &  I  &  Z  \\\\\n",
       " -& & X  &  Z  &  X  &  Y  \\\\\n",
       " \\end{array}\\right)\\\\\\end{equation*}"
      ],
      "text/plain": [
       "\n",
       "+XZIY\n",
       "+IZXY\n",
       "+IZII\n",
       "+ZIZZ\n",
       "-----\n",
       "+IIZZ\n",
       "+ZIIZ\n",
       "+IYIZ\n",
       "-XZXY\n"
      ]
     },
     "execution_count": 5,
     "metadata": {},
     "output_type": "execute_result"
    }
   ],
   "source": [
    "# print it out just to check it looks ok\n",
    "t"
   ]
  },
  {
   "cell_type": "code",
   "execution_count": 6,
   "metadata": {},
   "outputs": [
    {
     "data": {
      "text/plain": [
       "true"
      ]
     },
     "execution_count": 6,
     "metadata": {},
     "output_type": "execute_result"
    }
   ],
   "source": [
    "decomposeState(t)"
   ]
  },
  {
   "cell_type": "code",
   "execution_count": 7,
   "metadata": {},
   "outputs": [
    {
     "data": {
      "text/latex": [
       "\\begin{equation*} \\left(\\begin{array}{l|c*{4}c} +& & X  &  I  &  I  &  I  \\\\\n",
       " +& & I  &  X  &  I  &  I  \\\\\n",
       " +& & I  &  I  &  X  &  I  \\\\\n",
       " +& & I  &  I  &  I  &  X  \\\\\n",
       " \\hline\n",
       " +& & Z  &  I  &  I  &  I  \\\\\n",
       " +& & I  &  Z  &  I  &  I  \\\\\n",
       " +& & I  &  I  &  Z  &  I  \\\\\n",
       " +& & I  &  I  &  I  &  Z  \\\\\n",
       " \\end{array}\\right)\\\\\\end{equation*}"
      ],
      "text/plain": [
       "\n",
       "+XIII\n",
       "+IXII\n",
       "+IIXI\n",
       "+IIIX\n",
       "-----\n",
       "+ZIII\n",
       "+IZII\n",
       "+IIZI\n",
       "+IIIZ\n"
      ]
     },
     "execution_count": 7,
     "metadata": {},
     "output_type": "execute_result"
    }
   ],
   "source": [
    "t2 = Tableau(4) \n"
   ]
  },
  {
   "cell_type": "code",
   "execution_count": 8,
   "metadata": {},
   "outputs": [
    {
     "data": {
      "text/latex": [
       "\\begin{equation*} \\left(\\begin{array}{*{9}c} 0 & 0 & 1 & 0 & 0 & 0 & 0 & 0 & 0 \\\\ 0 & 0 & 1 & 1 & 0 & 1 & 0 & 1 & 0 \\\\ 0 & 0 & 0 & 0 & 0 & 1 & 0 & 0 & 0 \\\\ 0 & 0 & 0 & 0 & 1 & 0 & 0 & 0 & 0 \\\\ 0 & 0 & 0 & 0 & 0 & 0 & 1 & 1 & 0 \\\\ 0 & 0 & 0 & 0 & 1 & 0 & 0 & 1 & 0 \\\\ 0 & 1 & 0 & 0 & 0 & 1 & 0 & 1 & 0 \\\\ 1 & 0 & 1 & 1 & 0 & 1 & 0 & 1 & 1 \\\\ \\end{array}\\right)\\\\\\end{equation*}"
      ],
      "text/plain": [
       "8×9 Matrix{Int64}:\n",
       " 0  0  1  0  0  0  0  0  0\n",
       " 0  0  1  1  0  1  0  1  0\n",
       " 0  0  0  0  0  1  0  0  0\n",
       " 0  0  0  0  1  0  0  0  0\n",
       " 0  0  0  0  0  0  1  1  0\n",
       " 0  0  0  0  1  0  0  1  0\n",
       " 0  1  0  0  0  1  0  1  0\n",
       " 1  0  1  1  0  1  0  1  1"
      ]
     },
     "execution_count": 8,
     "metadata": {},
     "output_type": "execute_result"
    }
   ],
   "source": [
    "t2.state = [\n",
    "    0 0 1 0 0 0 0 0 0 # IIXI\n",
    "    0 0 1 1 0 1 0 1 0 # IZXY\n",
    "    0 0 0 0 0 1 0 0 0 # IZII\n",
    "    0 0 0 0 1 0 0 0 0 # ZIII\n",
    "    0 0 0 0 0 0 1 1 0 # IIZZ\n",
    "    0 0 0 0 1 0 0 1 0 # ZIIZ\n",
    "    0 1 0 0 0 1 0 1 0 # IYIZ\n",
    "    1 0 1 1 0 1 0 1 1 # -XZXY\n",
    "]"
   ]
  },
  {
   "cell_type": "code",
   "execution_count": 9,
   "metadata": {},
   "outputs": [
    {
     "data": {
      "text/latex": [
       "\\begin{equation*} \\left(\\begin{array}{l|c*{4}c} +& & I  &  I  &  X  &  I  \\\\\n",
       " +& & I  &  Z  &  X  &  Y  \\\\\n",
       " +& & I  &  Z  &  I  &  I  \\\\\n",
       " +& & Z  &  I  &  I  &  I  \\\\\n",
       " \\hline\n",
       " +& & I  &  I  &  Z  &  Z  \\\\\n",
       " +& & Z  &  I  &  I  &  Z  \\\\\n",
       " +& & I  &  Y  &  I  &  Z  \\\\\n",
       " -& & X  &  Z  &  X  &  Y  \\\\\n",
       " \\end{array}\\right)\\\\\\end{equation*}"
      ],
      "text/plain": [
       "\n",
       "+IIXI\n",
       "+IZXY\n",
       "+IZII\n",
       "+ZIII\n",
       "-----\n",
       "+IIZZ\n",
       "+ZIIZ\n",
       "+IYIZ\n",
       "-XZXY\n"
      ]
     },
     "execution_count": 9,
     "metadata": {},
     "output_type": "execute_result"
    }
   ],
   "source": [
    "t2"
   ]
  },
  {
   "cell_type": "code",
   "execution_count": 10,
   "metadata": {},
   "outputs": [
    {
     "data": {
      "text/plain": [
       "true"
      ]
     },
     "execution_count": 10,
     "metadata": {},
     "output_type": "execute_result"
    }
   ],
   "source": [
    "decomposeState(t2)"
   ]
  },
  {
   "cell_type": "code",
   "execution_count": 11,
   "metadata": {},
   "outputs": [
    {
     "name": "stdout",
     "output_type": "stream",
     "text": [
      "#Pass in the circuit and qubit register\n",
      "def createCircuit(circs,qreg):\n",
      "    circs.cx(qreg[4],qreg[2])\n",
      "    circs.cx(qreg[4],qreg[1])\n",
      "    circs.s(qreg[4])\n",
      "    circs.s(qreg[4])\n",
      "    circs.s(qreg[4])\n",
      "    circs.s(qreg[2])\n",
      "    circs.s(qreg[2])\n",
      "    circs.s(qreg[2])\n",
      "    circs.s(qreg[1])\n",
      "    circs.s(qreg[1])\n",
      "    circs.s(qreg[1])\n",
      "    circs.cx(qreg[4],qreg[2])\n",
      "    circs.cx(qreg[4],qreg[1])\n",
      "    circs.s(qreg[4])\n",
      "    circs.s(qreg[4])\n",
      "    circs.s(qreg[4])\n",
      "    circs.s(qreg[2])\n",
      "    circs.s(qreg[2])\n",
      "    circs.s(qreg[2])\n",
      "    circs.s(qreg[1])\n",
      "    circs.s(qreg[1])\n",
      "    circs.s(qreg[1])\n",
      "    circs.h(qreg[4])\n",
      "    circs.h(qreg[3])\n",
      "    circs.h(qreg[2])\n",
      "    circs.h(qreg[1])\n",
      "    circs.cx(qreg[4],qreg[3])\n",
      "    circs.cx(qreg[4],qreg[2])\n",
      "    circs.cx(qreg[4],qreg[1])\n",
      "    circs.s(qreg[3])\n",
      "    circs.s(qreg[2])\n",
      "    circs.s(qreg[1])\n",
      "    circs.cx(qreg[4],qreg[3])\n",
      "    circs.cx(qreg[4],qreg[2])\n",
      "    circs.cx(qreg[4],qreg[1])\n",
      "    circs.s(qreg[2])\n",
      "    circs.s(qreg[2])\n",
      "    circs.s(qreg[2])\n",
      "    circs.s(qreg[1])\n",
      "    circs.s(qreg[1])\n",
      "    circs.s(qreg[1])\n",
      "    circs.cx(qreg[3],qreg[2])\n",
      "    circs.cx(qreg[3],qreg[1])\n",
      "    circs.cx(qreg[2],qreg[3])\n",
      "    circs.cx(qreg[2],qreg[1])\n",
      "    circs.cx(qreg[3],qreg[2])\n",
      "    circs.cx(qreg[1],qreg[3])\n",
      "    circs.cx(qreg[3],qreg[1])\n",
      "    circs.h(qreg[3])\n",
      "    circs.h(qreg[1])"
     ]
    }
   ],
   "source": [
    "# This is longer than it needs to be, because our basic gates only include\n",
    "# The phase, hadamard and cnot - so for instance s^† is three s's\n",
    "# and an x is H SS H - ouch!\n",
    "# But you will be able to check if it works\n",
    "print(qiskitCircuit(t))"
   ]
  },
  {
   "cell_type": "code",
   "execution_count": 12,
   "metadata": {},
   "outputs": [
    {
     "name": "stdout",
     "output_type": "stream",
     "text": [
      "#Pass in the circuit and qubit register\n",
      "def createCircuit(circs,qreg):\n",
      "    circs.cx(qreg[4],qreg[2])\n",
      "    circs.s(qreg[2])\n",
      "    circs.s(qreg[2])\n",
      "    circs.s(qreg[2])\n",
      "    circs.s(qreg[4])\n",
      "    circs.s(qreg[4])\n",
      "    circs.cx(qreg[4],qreg[2])\n",
      "    circs.s(qreg[4])\n",
      "    circs.s(qreg[4])\n",
      "    circs.s(qreg[4])\n",
      "    circs.s(qreg[2])\n",
      "    circs.s(qreg[2])\n",
      "    circs.s(qreg[2])\n",
      "    circs.h(qreg[4])\n",
      "    circs.h(qreg[3])\n",
      "    circs.h(qreg[2])\n",
      "    circs.h(qreg[1])\n",
      "    circs.cx(qreg[4],qreg[3])\n",
      "    circs.cx(qreg[4],qreg[2])\n",
      "    circs.cx(qreg[4],qreg[1])\n",
      "    circs.s(qreg[3])\n",
      "    circs.s(qreg[2])\n",
      "    circs.s(qreg[1])\n",
      "    circs.cx(qreg[4],qreg[3])\n",
      "    circs.cx(qreg[4],qreg[2])\n",
      "    circs.cx(qreg[4],qreg[1])\n",
      "    circs.s(qreg[2])\n",
      "    circs.s(qreg[2])\n",
      "    circs.s(qreg[2])\n",
      "    circs.s(qreg[1])\n",
      "    circs.s(qreg[1])\n",
      "    circs.s(qreg[1])\n",
      "    circs.cx(qreg[3],qreg[2])\n",
      "    circs.cx(qreg[3],qreg[1])\n",
      "    circs.cx(qreg[2],qreg[3])\n",
      "    circs.cx(qreg[2],qreg[1])\n",
      "    circs.cx(qreg[3],qreg[2])\n",
      "    circs.cx(qreg[1],qreg[3])\n",
      "    circs.cx(qreg[3],qreg[1])\n",
      "    circs.h(qreg[3])\n",
      "    circs.h(qreg[1])"
     ]
    }
   ],
   "source": [
    "print(qiskitCircuit(t2))"
   ]
  },
  {
   "cell_type": "code",
   "execution_count": 13,
   "metadata": {},
   "outputs": [
    {
     "data": {
      "text/plain": [
       "11401981460"
      ]
     },
     "execution_count": 13,
     "metadata": {},
     "output_type": "execute_result"
    }
   ],
   "source": [
    "# if you are curious the \"Clifford number is \"\n",
    "tableauToClifford(t)"
   ]
  },
  {
   "cell_type": "code",
   "execution_count": 14,
   "metadata": {},
   "outputs": [
    {
     "data": {
      "text/plain": [
       "7068275655"
      ]
     },
     "execution_count": 14,
     "metadata": {},
     "output_type": "execute_result"
    }
   ],
   "source": [
    "tableauToClifford(t2)"
   ]
  },
  {
   "cell_type": "code",
   "execution_count": 15,
   "metadata": {},
   "outputs": [
    {
     "data": {
      "text/latex": [
       "\\begin{equation*} \\left(\\begin{array}{*{16}c} 0.5 + 0.0im & 0.0 + 0.0im & 0.0 + 0.0im & 0.0 + 0.0im & 0.0 + 0.5im & 0.0 + 0.0im & 0.0 + 0.0im & 0.0 + 0.0im & 0.0 + 0.0im & 0.0 + 0.0im & 0.0 + 0.0im & 0.0 - 0.5im & 0.0 + 0.0im & 0.0 + 0.0im & 0.0 + 0.0im & -0.5 + 0.0im \\\\ 0.5 + 0.0im & 0.0 + 0.0im & 0.0 + 0.0im & 0.0 + 0.0im & 0.0 + 0.5im & 0.0 + 0.0im & 0.0 + 0.0im & 0.0 + 0.0im & 0.0 + 0.0im & 0.0 + 0.0im & 0.0 + 0.0im & 0.0 + 0.5im & 0.0 + 0.0im & 0.0 + 0.0im & 0.0 + 0.0im & 0.5 + 0.0im \\\\ 0.5 + 0.0im & 0.0 + 0.0im & 0.0 + 0.0im & 0.0 + 0.0im & 0.0 - 0.5im & 0.0 + 0.0im & 0.0 + 0.0im & 0.0 + 0.0im & 0.0 + 0.0im & 0.0 + 0.0im & 0.0 + 0.0im & 0.0 - 0.5im & 0.0 + 0.0im & 0.0 + 0.0im & 0.0 + 0.0im & 0.5 + 0.0im \\\\ 0.5 + 0.0im & 0.0 + 0.0im & 0.0 + 0.0im & 0.0 + 0.0im & 0.0 - 0.5im & 0.0 + 0.0im & 0.0 + 0.0im & 0.0 + 0.0im & 0.0 + 0.0im & 0.0 + 0.0im & 0.0 + 0.0im & 0.0 + 0.5im & 0.0 + 0.0im & 0.0 + 0.0im & 0.0 + 0.0im & -0.5 + 0.0im \\\\ 0.0 + 0.0im & 0.0 + 0.0im & 0.0 + 0.0im & 0.0 + 0.5im & 0.0 + 0.0im & 0.0 + 0.0im & 0.0 + 0.0im & 0.5 + 0.0im & -0.5 + 0.0im & 0.0 + 0.0im & 0.0 + 0.0im & 0.0 + 0.0im & 0.0 - 0.5im & 0.0 + 0.0im & 0.0 + 0.0im & 0.0 + 0.0im \\\\ 0.0 + 0.0im & 0.0 + 0.0im & 0.0 + 0.0im & 0.0 + 0.5im & 0.0 + 0.0im & 0.0 + 0.0im & 0.0 + 0.0im & 0.5 + 0.0im & 0.5 + 0.0im & 0.0 + 0.0im & 0.0 + 0.0im & 0.0 + 0.0im & 0.0 + 0.5im & 0.0 + 0.0im & 0.0 + 0.0im & 0.0 + 0.0im \\\\ 0.0 + 0.0im & 0.0 + 0.0im & 0.0 + 0.0im & 0.0 + 0.5im & 0.0 + 0.0im & 0.0 + 0.0im & 0.0 + 0.0im & -0.5 + 0.0im & -0.5 + 0.0im & 0.0 + 0.0im & 0.0 + 0.0im & 0.0 + 0.0im & 0.0 + 0.5im & 0.0 + 0.0im & 0.0 + 0.0im & 0.0 + 0.0im \\\\ 0.0 + 0.0im & 0.0 + 0.0im & 0.0 + 0.0im & 0.0 + 0.5im & 0.0 + 0.0im & 0.0 + 0.0im & 0.0 + 0.0im & -0.5 + 0.0im & 0.5 + 0.0im & 0.0 + 0.0im & 0.0 + 0.0im & 0.0 + 0.0im & 0.0 - 0.5im & 0.0 + 0.0im & 0.0 + 0.0im & 0.0 + 0.0im \\\\ 0.0 + 0.0im & 0.0 + 0.0im & -0.5 + 0.0im & 0.0 + 0.0im & 0.0 + 0.0im & 0.0 + 0.0im & 0.0 - 0.5im & 0.0 + 0.0im & 0.0 + 0.0im & 0.0 + 0.5im & 0.0 + 0.0im & 0.0 + 0.0im & 0.0 + 0.0im & 0.5 + 0.0im & 0.0 + 0.0im & 0.0 + 0.0im \\\\ 0.0 + 0.0im & 0.0 + 0.0im & 0.5 + 0.0im & 0.0 + 0.0im & 0.0 + 0.0im & 0.0 + 0.0im & 0.0 + 0.5im & 0.0 + 0.0im & 0.0 + 0.0im & 0.0 + 0.5im & 0.0 + 0.0im & 0.0 + 0.0im & 0.0 + 0.0im & 0.5 + 0.0im & 0.0 + 0.0im & 0.0 + 0.0im \\\\ 0.0 + 0.0im & 0.0 + 0.0im & -0.5 + 0.0im & 0.0 + 0.0im & 0.0 + 0.0im & 0.0 + 0.0im & 0.0 + 0.5im & 0.0 + 0.0im & 0.0 + 0.0im & 0.0 + 0.5im & 0.0 + 0.0im & 0.0 + 0.0im & 0.0 + 0.0im & -0.5 + 0.0im & 0.0 + 0.0im & 0.0 + 0.0im \\\\ 0.0 + 0.0im & 0.0 + 0.0im & 0.5 + 0.0im & 0.0 + 0.0im & 0.0 + 0.0im & 0.0 + 0.0im & 0.0 - 0.5im & 0.0 + 0.0im & 0.0 + 0.0im & 0.0 + 0.5im & 0.0 + 0.0im & 0.0 + 0.0im & 0.0 + 0.0im & -0.5 + 0.0im & 0.0 + 0.0im & 0.0 + 0.0im \\\\ 0.0 + 0.0im & 0.0 - 0.5im & 0.0 + 0.0im & 0.0 + 0.0im & 0.0 + 0.0im & -0.5 + 0.0im & 0.0 + 0.0im & 0.0 + 0.0im & 0.0 + 0.0im & 0.0 + 0.0im & 0.5 + 0.0im & 0.0 + 0.0im & 0.0 + 0.0im & 0.0 + 0.0im & 0.0 + 0.5im & 0.0 + 0.0im \\\\ 0.0 + 0.0im & 0.0 + 0.5im & 0.0 + 0.0im & 0.0 + 0.0im & 0.0 + 0.0im & 0.5 + 0.0im & 0.0 + 0.0im & 0.0 + 0.0im & 0.0 + 0.0im & 0.0 + 0.0im & 0.5 + 0.0im & 0.0 + 0.0im & 0.0 + 0.0im & 0.0 + 0.0im & 0.0 + 0.5im & 0.0 + 0.0im \\\\ 0.0 + 0.0im & 0.0 - 0.5im & 0.0 + 0.0im & 0.0 + 0.0im & 0.0 + 0.0im & 0.5 + 0.0im & 0.0 + 0.0im & 0.0 + 0.0im & 0.0 + 0.0im & 0.0 + 0.0im & 0.5 + 0.0im & 0.0 + 0.0im & 0.0 + 0.0im & 0.0 + 0.0im & 0.0 - 0.5im & 0.0 + 0.0im \\\\ 0.0 + 0.0im & 0.0 + 0.5im & 0.0 + 0.0im & 0.0 + 0.0im & 0.0 + 0.0im & -0.5 + 0.0im & 0.0 + 0.0im & 0.0 + 0.0im & 0.0 + 0.0im & 0.0 + 0.0im & 0.5 + 0.0im & 0.0 + 0.0im & 0.0 + 0.0im & 0.0 + 0.0im & 0.0 - 0.5im & 0.0 + 0.0im \\\\ \\end{array}\\right)\\\\\\end{equation*}"
      ],
      "text/plain": [
       "16×16 Matrix{ComplexF64}:\n",
       " 0.5+0.0im  0.0+0.0im   0.0+0.0im  …   0.0+0.0im  0.0+0.0im  -0.5+0.0im\n",
       " 0.5+0.0im  0.0+0.0im   0.0+0.0im      0.0+0.0im  0.0+0.0im   0.5+0.0im\n",
       " 0.5+0.0im  0.0+0.0im   0.0+0.0im      0.0+0.0im  0.0+0.0im   0.5+0.0im\n",
       " 0.5+0.0im  0.0+0.0im   0.0+0.0im      0.0+0.0im  0.0+0.0im  -0.5+0.0im\n",
       " 0.0+0.0im  0.0+0.0im   0.0+0.0im      0.0+0.0im  0.0+0.0im   0.0+0.0im\n",
       " 0.0+0.0im  0.0+0.0im   0.0+0.0im  …   0.0+0.0im  0.0+0.0im   0.0+0.0im\n",
       " 0.0+0.0im  0.0+0.0im   0.0+0.0im      0.0+0.0im  0.0+0.0im   0.0+0.0im\n",
       " 0.0+0.0im  0.0+0.0im   0.0+0.0im      0.0+0.0im  0.0+0.0im   0.0+0.0im\n",
       " 0.0+0.0im  0.0+0.0im  -0.5+0.0im      0.5+0.0im  0.0+0.0im   0.0+0.0im\n",
       " 0.0+0.0im  0.0+0.0im   0.5+0.0im      0.5+0.0im  0.0+0.0im   0.0+0.0im\n",
       " 0.0+0.0im  0.0+0.0im  -0.5+0.0im  …  -0.5+0.0im  0.0+0.0im   0.0+0.0im\n",
       " 0.0+0.0im  0.0+0.0im   0.5+0.0im     -0.5+0.0im  0.0+0.0im   0.0+0.0im\n",
       " 0.0+0.0im  0.0-0.5im   0.0+0.0im      0.0+0.0im  0.0+0.5im   0.0+0.0im\n",
       " 0.0+0.0im  0.0+0.5im   0.0+0.0im      0.0+0.0im  0.0+0.5im   0.0+0.0im\n",
       " 0.0+0.0im  0.0-0.5im   0.0+0.0im      0.0+0.0im  0.0-0.5im   0.0+0.0im\n",
       " 0.0+0.0im  0.0+0.5im   0.0+0.0im  …   0.0+0.0im  0.0-0.5im   0.0+0.0im"
      ]
     },
     "execution_count": 15,
     "metadata": {},
     "output_type": "execute_result"
    }
   ],
   "source": [
    "# And it looks like this!\n",
    "round.(makeFromCommand(t),digits=10)"
   ]
  },
  {
   "cell_type": "code",
   "execution_count": 16,
   "metadata": {},
   "outputs": [
    {
     "data": {
      "text/latex": [
       "\\begin{equation*} \\left(\\begin{array}{*{16}c} 0.5 + 0.0im & 0.0 + 0.0im & 0.0 + 0.0im & 0.0 + 0.0im & 0.0 + 0.5im & 0.0 + 0.0im & 0.0 + 0.0im & 0.0 + 0.0im & 0.0 + 0.0im & 0.0 + 0.0im & 0.0 + 0.0im & 0.0 - 0.5im & 0.0 + 0.0im & 0.0 + 0.0im & 0.0 + 0.0im & -0.5 + 0.0im \\\\ 0.5 + 0.0im & 0.0 + 0.0im & 0.0 + 0.0im & 0.0 + 0.0im & 0.0 + 0.5im & 0.0 + 0.0im & 0.0 + 0.0im & 0.0 + 0.0im & 0.0 + 0.0im & 0.0 + 0.0im & 0.0 + 0.0im & 0.0 + 0.5im & 0.0 + 0.0im & 0.0 + 0.0im & 0.0 + 0.0im & 0.5 + 0.0im \\\\ 0.5 + 0.0im & 0.0 + 0.0im & 0.0 + 0.0im & 0.0 + 0.0im & 0.0 - 0.5im & 0.0 + 0.0im & 0.0 + 0.0im & 0.0 + 0.0im & 0.0 + 0.0im & 0.0 + 0.0im & 0.0 + 0.0im & 0.0 - 0.5im & 0.0 + 0.0im & 0.0 + 0.0im & 0.0 + 0.0im & 0.5 + 0.0im \\\\ 0.5 + 0.0im & 0.0 + 0.0im & 0.0 + 0.0im & 0.0 + 0.0im & 0.0 - 0.5im & 0.0 + 0.0im & 0.0 + 0.0im & 0.0 + 0.0im & 0.0 + 0.0im & 0.0 + 0.0im & 0.0 + 0.0im & 0.0 + 0.5im & 0.0 + 0.0im & 0.0 + 0.0im & 0.0 + 0.0im & -0.5 + 0.0im \\\\ 0.0 + 0.0im & 0.0 + 0.0im & 0.0 + 0.0im & 0.0 + 0.5im & 0.0 + 0.0im & 0.0 + 0.0im & 0.0 + 0.0im & 0.5 + 0.0im & -0.5 + 0.0im & 0.0 + 0.0im & 0.0 + 0.0im & 0.0 + 0.0im & 0.0 - 0.5im & 0.0 + 0.0im & 0.0 + 0.0im & 0.0 + 0.0im \\\\ 0.0 + 0.0im & 0.0 + 0.0im & 0.0 + 0.0im & 0.0 + 0.5im & 0.0 + 0.0im & 0.0 + 0.0im & 0.0 + 0.0im & 0.5 + 0.0im & 0.5 + 0.0im & 0.0 + 0.0im & 0.0 + 0.0im & 0.0 + 0.0im & 0.0 + 0.5im & 0.0 + 0.0im & 0.0 + 0.0im & 0.0 + 0.0im \\\\ 0.0 + 0.0im & 0.0 + 0.0im & 0.0 + 0.0im & 0.0 + 0.5im & 0.0 + 0.0im & 0.0 + 0.0im & 0.0 + 0.0im & -0.5 + 0.0im & -0.5 + 0.0im & 0.0 + 0.0im & 0.0 + 0.0im & 0.0 + 0.0im & 0.0 + 0.5im & 0.0 + 0.0im & 0.0 + 0.0im & 0.0 + 0.0im \\\\ 0.0 + 0.0im & 0.0 + 0.0im & 0.0 + 0.0im & 0.0 + 0.5im & 0.0 + 0.0im & 0.0 + 0.0im & 0.0 + 0.0im & -0.5 + 0.0im & 0.5 + 0.0im & 0.0 + 0.0im & 0.0 + 0.0im & 0.0 + 0.0im & 0.0 - 0.5im & 0.0 + 0.0im & 0.0 + 0.0im & 0.0 + 0.0im \\\\ 0.0 + 0.0im & 0.0 + 0.0im & 0.5 + 0.0im & 0.0 + 0.0im & 0.0 + 0.0im & 0.0 + 0.0im & 0.0 + 0.5im & 0.0 + 0.0im & 0.0 + 0.0im & 0.0 - 0.5im & 0.0 + 0.0im & 0.0 + 0.0im & 0.0 + 0.0im & -0.5 + 0.0im & 0.0 + 0.0im & 0.0 + 0.0im \\\\ 0.0 + 0.0im & 0.0 + 0.0im & 0.5 + 0.0im & 0.0 + 0.0im & 0.0 + 0.0im & 0.0 + 0.0im & 0.0 + 0.5im & 0.0 + 0.0im & 0.0 + 0.0im & 0.0 + 0.5im & 0.0 + 0.0im & 0.0 + 0.0im & 0.0 + 0.0im & 0.5 + 0.0im & 0.0 + 0.0im & 0.0 + 0.0im \\\\ 0.0 + 0.0im & 0.0 + 0.0im & 0.5 + 0.0im & 0.0 + 0.0im & 0.0 + 0.0im & 0.0 + 0.0im & 0.0 - 0.5im & 0.0 + 0.0im & 0.0 + 0.0im & 0.0 - 0.5im & 0.0 + 0.0im & 0.0 + 0.0im & 0.0 + 0.0im & 0.5 + 0.0im & 0.0 + 0.0im & 0.0 + 0.0im \\\\ 0.0 + 0.0im & 0.0 + 0.0im & 0.5 + 0.0im & 0.0 + 0.0im & 0.0 + 0.0im & 0.0 + 0.0im & 0.0 - 0.5im & 0.0 + 0.0im & 0.0 + 0.0im & 0.0 + 0.5im & 0.0 + 0.0im & 0.0 + 0.0im & 0.0 + 0.0im & -0.5 + 0.0im & 0.0 + 0.0im & 0.0 + 0.0im \\\\ 0.0 + 0.0im & 0.0 + 0.5im & 0.0 + 0.0im & 0.0 + 0.0im & 0.0 + 0.0im & 0.5 + 0.0im & 0.0 + 0.0im & 0.0 + 0.0im & 0.0 + 0.0im & 0.0 + 0.0im & -0.5 + 0.0im & 0.0 + 0.0im & 0.0 + 0.0im & 0.0 + 0.0im & 0.0 - 0.5im & 0.0 + 0.0im \\\\ 0.0 + 0.0im & 0.0 + 0.5im & 0.0 + 0.0im & 0.0 + 0.0im & 0.0 + 0.0im & 0.5 + 0.0im & 0.0 + 0.0im & 0.0 + 0.0im & 0.0 + 0.0im & 0.0 + 0.0im & 0.5 + 0.0im & 0.0 + 0.0im & 0.0 + 0.0im & 0.0 + 0.0im & 0.0 + 0.5im & 0.0 + 0.0im \\\\ 0.0 + 0.0im & 0.0 + 0.5im & 0.0 + 0.0im & 0.0 + 0.0im & 0.0 + 0.0im & -0.5 + 0.0im & 0.0 + 0.0im & 0.0 + 0.0im & 0.0 + 0.0im & 0.0 + 0.0im & -0.5 + 0.0im & 0.0 + 0.0im & 0.0 + 0.0im & 0.0 + 0.0im & 0.0 + 0.5im & 0.0 + 0.0im \\\\ 0.0 + 0.0im & 0.0 + 0.5im & 0.0 + 0.0im & 0.0 + 0.0im & 0.0 + 0.0im & -0.5 + 0.0im & 0.0 + 0.0im & 0.0 + 0.0im & 0.0 + 0.0im & 0.0 + 0.0im & 0.5 + 0.0im & 0.0 + 0.0im & 0.0 + 0.0im & 0.0 + 0.0im & 0.0 - 0.5im & 0.0 + 0.0im \\\\ \\end{array}\\right)\\\\\\end{equation*}"
      ],
      "text/plain": [
       "16×16 Matrix{ComplexF64}:\n",
       " 0.5+0.0im  0.0+0.0im  0.0+0.0im  …   0.0+0.0im  0.0+0.0im  -0.5+0.0im\n",
       " 0.5+0.0im  0.0+0.0im  0.0+0.0im      0.0+0.0im  0.0+0.0im   0.5+0.0im\n",
       " 0.5+0.0im  0.0+0.0im  0.0+0.0im      0.0+0.0im  0.0+0.0im   0.5+0.0im\n",
       " 0.5+0.0im  0.0+0.0im  0.0+0.0im      0.0+0.0im  0.0+0.0im  -0.5+0.0im\n",
       " 0.0+0.0im  0.0+0.0im  0.0+0.0im      0.0+0.0im  0.0+0.0im   0.0+0.0im\n",
       " 0.0+0.0im  0.0+0.0im  0.0+0.0im  …   0.0+0.0im  0.0+0.0im   0.0+0.0im\n",
       " 0.0+0.0im  0.0+0.0im  0.0+0.0im      0.0+0.0im  0.0+0.0im   0.0+0.0im\n",
       " 0.0+0.0im  0.0+0.0im  0.0+0.0im      0.0+0.0im  0.0+0.0im   0.0+0.0im\n",
       " 0.0+0.0im  0.0+0.0im  0.5+0.0im     -0.5+0.0im  0.0+0.0im   0.0+0.0im\n",
       " 0.0+0.0im  0.0+0.0im  0.5+0.0im      0.5+0.0im  0.0+0.0im   0.0+0.0im\n",
       " 0.0+0.0im  0.0+0.0im  0.5+0.0im  …   0.5+0.0im  0.0+0.0im   0.0+0.0im\n",
       " 0.0+0.0im  0.0+0.0im  0.5+0.0im     -0.5+0.0im  0.0+0.0im   0.0+0.0im\n",
       " 0.0+0.0im  0.0+0.5im  0.0+0.0im      0.0+0.0im  0.0-0.5im   0.0+0.0im\n",
       " 0.0+0.0im  0.0+0.5im  0.0+0.0im      0.0+0.0im  0.0+0.5im   0.0+0.0im\n",
       " 0.0+0.0im  0.0+0.5im  0.0+0.0im      0.0+0.0im  0.0+0.5im   0.0+0.0im\n",
       " 0.0+0.0im  0.0+0.5im  0.0+0.0im  …   0.0+0.0im  0.0-0.5im   0.0+0.0im"
      ]
     },
     "execution_count": 16,
     "metadata": {},
     "output_type": "execute_result"
    }
   ],
   "source": [
    "round.(makeFromCommand(t2),digits=10)"
   ]
  },
  {
   "cell_type": "code",
   "execution_count": null,
   "metadata": {},
   "outputs": [],
   "source": []
  }
 ],
 "metadata": {
  "@webio": {
   "lastCommId": null,
   "lastKernelId": null
  },
  "kernelspec": {
   "display_name": "Julia 1.8.1",
   "language": "julia",
   "name": "julia-1.8"
  },
  "language_info": {
   "file_extension": ".jl",
   "mimetype": "application/julia",
   "name": "julia",
   "version": "1.8.1"
  }
 },
 "nbformat": 4,
 "nbformat_minor": 2
}
