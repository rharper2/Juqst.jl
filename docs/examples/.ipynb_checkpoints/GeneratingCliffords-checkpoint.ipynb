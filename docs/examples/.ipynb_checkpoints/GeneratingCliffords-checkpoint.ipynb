{
 "cells": [
  {
   "cell_type": "markdown",
   "metadata": {},
   "source": [
    "# Overview\n",
    "\n",
    "Let's say you wanted to generate all the two qubit Cliffords, but you don't want to use the CNOT gate, but rather the CZ gate. You have a single qubit X gate, Z gate and Phase gate as well as a Hadamard which you can apply to either or both qubits. How would you generate the full two qubit group using only these Cliffords?\n",
    "\n",
    "For a lot of this book we will be working in the superoperator basis, so our Clifford operators are expressed as super-operators. The reason I do this is because the superoperator basis is 'projective' - it projects out the global phase. This makes it really easy to see if two operators are in fact the same. \n",
    "\n",
    "Juqst contains some code to generate the single qubit Cliffords directly"
   ]
  },
  {
   "cell_type": "code",
   "execution_count": null,
   "metadata": {},
   "outputs": [],
   "source": [
    "# This isn't automatically installed as part of Juqst.\n",
    "# import Pkg; Pkg.add(\"ProgressMeter\")"
   ]
  },
  {
   "cell_type": "code",
   "execution_count": 2,
   "metadata": {},
   "outputs": [
    {
     "data": {
      "text/plain": [
       "24-element Vector{Matrix{Float64}}:\n",
       " [1.0 0.0 0.0 0.0; 0.0 0.0 0.0 -1.0; 0.0 0.0 1.0 0.0; 0.0 1.0 0.0 0.0]\n",
       " [1.0 0.0 0.0 0.0; 0.0 0.0 0.0 1.0; 0.0 0.0 1.0 0.0; 0.0 -1.0 0.0 0.0]\n",
       " [1.0 0.0 0.0 0.0; 0.0 0.0 0.0 -1.0; 0.0 0.0 -1.0 0.0; 0.0 -1.0 0.0 0.0]\n",
       " [1.0 0.0 0.0 0.0; 0.0 0.0 0.0 1.0; 0.0 0.0 -1.0 0.0; 0.0 1.0 0.0 0.0]\n",
       " [1.0 0.0 0.0 0.0; 0.0 0.0 1.0 0.0; 0.0 -1.0 0.0 0.0; 0.0 0.0 0.0 1.0]\n",
       " [1.0 0.0 0.0 0.0; 0.0 0.0 -1.0 0.0; 0.0 -1.0 0.0 0.0; 0.0 0.0 0.0 -1.0]\n",
       " [1.0 0.0 0.0 0.0; 0.0 0.0 1.0 0.0; 0.0 1.0 0.0 0.0; 0.0 0.0 0.0 -1.0]\n",
       " [1.0 0.0 0.0 0.0; 0.0 0.0 -1.0 0.0; 0.0 1.0 0.0 0.0; 0.0 0.0 0.0 1.0]\n",
       " [1.0 0.0 0.0 0.0; 0.0 -1.0 0.0 0.0; 0.0 0.0 0.0 -1.0; 0.0 0.0 -1.0 0.0]\n",
       " [1.0 0.0 0.0 0.0; 0.0 1.0 0.0 0.0; 0.0 0.0 0.0 -1.0; 0.0 0.0 1.0 0.0]\n",
       " [1.0 0.0 0.0 0.0; 0.0 -1.0 0.0 0.0; 0.0 0.0 0.0 1.0; 0.0 0.0 1.0 0.0]\n",
       " [1.0 0.0 0.0 0.0; 0.0 1.0 0.0 0.0; 0.0 0.0 0.0 1.0; 0.0 0.0 -1.0 0.0]\n",
       " [1.0 0.0 0.0 0.0; 0.0 0.0 0.0 -1.0; 0.0 1.0 0.0 0.0; 0.0 0.0 -1.0 0.0]\n",
       " [1.0 0.0 0.0 0.0; 0.0 0.0 0.0 1.0; 0.0 1.0 0.0 0.0; 0.0 0.0 1.0 0.0]\n",
       " [1.0 0.0 0.0 0.0; 0.0 0.0 0.0 -1.0; 0.0 -1.0 0.0 0.0; 0.0 0.0 1.0 0.0]\n",
       " [1.0 0.0 0.0 0.0; 0.0 0.0 0.0 1.0; 0.0 -1.0 0.0 0.0; 0.0 0.0 -1.0 0.0]\n",
       " [1.0 0.0 0.0 0.0; 0.0 0.0 1.0 0.0; 0.0 0.0 0.0 1.0; 0.0 1.0 0.0 0.0]\n",
       " [1.0 0.0 0.0 0.0; 0.0 0.0 -1.0 0.0; 0.0 0.0 0.0 1.0; 0.0 -1.0 0.0 0.0]\n",
       " [1.0 0.0 0.0 0.0; 0.0 0.0 1.0 0.0; 0.0 0.0 0.0 -1.0; 0.0 -1.0 0.0 0.0]\n",
       " [1.0 0.0 0.0 0.0; 0.0 0.0 -1.0 0.0; 0.0 0.0 0.0 -1.0; 0.0 1.0 0.0 0.0]\n",
       " [1.0 0.0 0.0 0.0; 0.0 -1.0 0.0 0.0; 0.0 0.0 -1.0 0.0; 0.0 0.0 0.0 1.0]\n",
       " [1.0 0.0 0.0 0.0; 0.0 1.0 0.0 0.0; 0.0 0.0 -1.0 0.0; 0.0 0.0 0.0 -1.0]\n",
       " [1.0 0.0 0.0 0.0; 0.0 -1.0 0.0 0.0; 0.0 0.0 1.0 0.0; 0.0 0.0 0.0 -1.0]\n",
       " [1.0 0.0 0.0 0.0; 0.0 1.0 0.0 0.0; 0.0 0.0 1.0 0.0; 0.0 0.0 0.0 1.0]"
      ]
     },
     "execution_count": 2,
     "metadata": {},
     "output_type": "execute_result"
    }
   ],
   "source": [
    "using Juqst \n",
    "\n",
    "\n",
    "using ProgressMeter\n",
    "using DelimitedFiles\n",
    "using LinearAlgebra\n",
    "\n",
    "⊗ = kron # Convenience type \\otimes<tab>\n",
    "\n",
    "\"\"\"\n",
    "You can check whether you have generated the gates correcly by looking at their frame.\n",
    "This follows: David Gross' paper: https://arxiv.org/abs/quant-ph/0611002\n",
    "If this gives 2, you have a unitary-2 design, 3 it's an orthogonal-2 design.\n",
    "\"\"\"\n",
    "function checkFrame(x)\n",
    "    sum = 0\n",
    "    @showprogress for i=1:length(x)\n",
    "        for j=1:length(x)\n",
    "            sum += abs(tr(x[i]'*x[j]))^4\n",
    "        end\n",
    "    end\n",
    "    sum/(length(x)^2)\n",
    "end\n",
    "\n",
    "\n",
    "operatorCliffords = generateRawCliffords();\n",
    "@assert round(checkFrame(operatorCliffords),digits=8) == 2\n",
    "superCliffords = map(makeSuper,operatorCliffords)\n",
    "\n",
    "# Note the makeSuper is very slow when the number of qubits become >> 4"
   ]
  },
  {
   "cell_type": "code",
   "execution_count": 3,
   "metadata": {},
   "outputs": [
    {
     "name": "stdout",
     "output_type": "stream",
     "text": [
      "11520 - created.\n"
     ]
    },
    {
     "name": "stderr",
     "output_type": "stream",
     "text": [
      "\u001b[32mProgress: 100%|█████████████████████████████████████████| Time: 0:01:06\u001b[39m\n"
     ]
    }
   ],
   "source": [
    "# We can use stabiliser formalism to create all two qubit cliffords.\n",
    "\n",
    "twoQubitCliffords = []\n",
    "for i = 1:getNumberOfSymplecticCliffords(2)\n",
    "    for j = 1:getNumberOfBitStringsCliffords(2)\n",
    "        push!(twoQubitCliffords,makeFromCommand(cliffordToTableau(2,i,j)))\n",
    "    end\n",
    "end\n",
    "print(\"$(length(twoQubitCliffords)) - created.\\n\")\n",
    "\n",
    "# This is the slowest bit ---  you can remove this sanity check.\n",
    "@assert round(checkFrame(twoQubitCliffords),digits=8) == 2\n",
    "\n",
    "superTwoQubitCliffords = map(makeSuper,twoQubitCliffords);"
   ]
  },
  {
   "cell_type": "code",
   "execution_count": 4,
   "metadata": {},
   "outputs": [
    {
     "data": {
      "text/latex": [
       "\\begin{equation*} \\left(\\begin{array}{*{4}c} 1 + 0im & 0 + 0im & 0 + 0im & 0 + 0im \\\\ 0 + 0im & 0 + 1im & 0 + 0im & 0 + 0im \\\\ 0 + 0im & 0 + 0im & 0 + 1im & 0 + 0im \\\\ 0 + 0im & 0 + 0im & 0 + 0im & -1 + 0im \\\\ \\end{array}\\right)\\\\\\end{equation*}"
      ],
      "text/plain": [
       "4×4 Matrix{Complex{Int64}}:\n",
       " 1+0im  0+0im  0+0im   0+0im\n",
       " 0+0im  0+1im  0+0im   0+0im\n",
       " 0+0im  0+0im  0+1im   0+0im\n",
       " 0+0im  0+0im  0+0im  -1+0im"
      ]
     },
     "execution_count": 4,
     "metadata": {},
     "output_type": "execute_result"
    }
   ],
   "source": [
    "# Some quick and dirty functions (use a global) to help us find indexes to cliffords\n",
    "# Given x, checks if its in the cliffords.\n",
    "# Uses the SuperClifford to ignore phase\n",
    "function findClifford(x::Array{Complex{Float64},2})\n",
    "    test = makeSuper(x)\n",
    "    return findfirst(x->x==test,superCliffords)\n",
    "end\n",
    "\n",
    "# Here we pass in a SuperOperator clifford\n",
    "function findClifford(test::Array{Float64,2})\n",
    "        return findfirst(x->x==test,superCliffords)\n",
    "end\n",
    "\n",
    "\n",
    "#Some basic gates\n",
    "\n",
    "pI=[1 0;0 1]\n",
    "pX=[0 1;1 0]\n",
    "pZ=[1 0;0 -1]\n",
    "pP=[1 0;0 im]\n",
    "pH=[1 1;1 -1]/sqrt(2)\n",
    "cnot12 = kron([1 0]'*[1 0],pI)+kron([0 1]'*[0 1],pX)\n",
    "cnot21 = kron(pI,[1 0]'*[1 0])+kron(pX,[0 1]'*[0 1])\n",
    "cZ = [1 0 0 0; 0 1 0 0;0 0 1 0;0 0 0 -1]\n",
    "\n",
    "\n",
    "pXpI = kron(pX,pI)\n",
    "pIpX = kron(pI,pX)\n",
    "pZpI = kron(pZ,pI)\n",
    "pIpZ = kron(pI,pZ)\n",
    "pHpI = kron(pH,pI)\n",
    "pIpH = kron(pI,pH)\n",
    "pPpI = kron(pP,pI)\n",
    "pIpP = kron(pI,pP)\n",
    "pXX = kron(pX,pX)\n",
    "pZZ = kron(pZ,pZ)\n",
    "pHH = kron(pH,pH)\n",
    "pPP = kron(pP,pP)\n",
    "\n",
    "\n"
   ]
  },
  {
   "cell_type": "code",
   "execution_count": 5,
   "metadata": {},
   "outputs": [
    {
     "name": "stdout",
     "output_type": "stream",
     "text": [
      "That pass we now have 11432 Cliffords left, 88 done, max length 2.\n",
      "That pass we now have 11155 Cliffords left, 365 done, max length 3.\n",
      "That pass we now have 10435 Cliffords left, 1085 done, max length 4.\n",
      "That pass we now have 8821 Cliffords left, 2699 done, max length 5.\n",
      "That pass we now have 5962 Cliffords left, 5558 done, max length 6.\n",
      "That pass we now have 2434 Cliffords left, 9086 done, max length 7.\n",
      "That pass we now have 246 Cliffords left, 11274 done, max length 8.\n",
      "Done enough\n",
      "That pass we now have 0 Cliffords left, 11520 done, max length 9.\n"
     ]
    }
   ],
   "source": [
    "# This will be filled with the minimum sequence of generators needed to generate each Clifford\n",
    "minPaths=[]\n",
    "for i=1:length(superTwoQubitCliffords)\n",
    "    push!(minPaths,[])\n",
    "end\n",
    "\n",
    "\n",
    "# Lets say we want to Generate using cz\n",
    "# (I think this falls into Steve's - dumbest thing possible category)\n",
    "twoQubitGens = [pXpI,pIpX,pZpI,pIpZ,pHpI,pIpH,pPpI,pIpP,pZZ,pHH,pXX,cZ];\n",
    "twoQubitGenString = [\"XI\",\"IX\",\"ZI\",\"IZ\",\"HI\",\"IH\",\"PI\",\"IP\",\"ZZ\",\"HH\",\"XX\",\"cZ\"]\n",
    "\n",
    "\n",
    "super2Gens = [makeSuper(x) for x in twoQubitGens]\n",
    "\n",
    "\n",
    "# We have the generators, so just fill these in \n",
    "for i=1:length(super2Gens)\n",
    "    # Find the index of the Clifford corresponding to the generator.\n",
    "    t1=findfirst(x->x==super2Gens[i],superTwoQubitCliffords)\n",
    "    minPaths[t1]=[i] # Fill it into minPaths.\n",
    "end\n",
    "\n",
    "# i.e if ZI (the third generator) corresponds to, say, Clifford 6, then the 6th entry of minPaths is set to 3.\n",
    "\n",
    "doneOne = true\n",
    "\n",
    "todo = count([x==[] for x in minPaths]) # number we need to find.\n",
    "havedone=0\n",
    "\n",
    "newPaths=copy(minPaths)\n",
    "# We use a set to see if we have already created on, this is a lot quicker\n",
    "setOfDone = Set()\n",
    "# We already have the generators put them in the setOfDOne.\n",
    "for i in super2Gens\n",
    "    push!(setOfDone,i)\n",
    "end\n",
    "\n",
    "# We need to check if we have stalled, as if we don't give the correct generators we may not be able\n",
    "# to generate them all (see RealCliffords later)\n",
    "while doneOne && (havedone < todo) \n",
    "    doneOne = false\n",
    "    for i in 1:length(super2Gens)\n",
    "        for j in 1:length(minPaths)\n",
    "              if minPaths[j]!=[] # one we have found\n",
    "                  newOne = superTwoQubitCliffords[j]*super2Gens[i]\n",
    "                  if !(newOne in setOfDone) # when we multiplied it by a generator did we get a previously undiscovered Clifford?\n",
    "                      t1 = findfirst(x->x==newOne,superTwoQubitCliffords)\n",
    "                      if newPaths[t1]==[]\n",
    "                          newPaths[t1] = hcat([i],copy(minPaths[j])) # note composing direction.\n",
    "                          doneOne = true\n",
    "                          havedone = havedone+1\n",
    "                          push!(setOfDone,newOne)\n",
    "                          if havedone >= todo\n",
    "                            print(\"Done enough\\n\")\n",
    "                            break;\n",
    "                          end\n",
    "                    end\n",
    "                  end\n",
    "             end\n",
    "        end\n",
    "    end\n",
    "    minPaths=copy(newPaths)\n",
    "    print(\"That pass we now have $(count([x==[] for x in minPaths])) Cliffords left, $(length(superTwoQubitCliffords)-count([x==[] for x in minPaths])) done, max length $(maximum([length(i) for i in minPaths])).\\n\")\n",
    "end\n",
    "\n"
   ]
  },
  {
   "cell_type": "code",
   "execution_count": 6,
   "metadata": {},
   "outputs": [
    {
     "name": "stdout",
     "output_type": "stream",
     "text": [
      "[8 12 5 7 5]"
     ]
    }
   ],
   "source": [
    "# So for instance Clifford[356] is generated with\n",
    "print(minPaths[356])\n"
   ]
  },
  {
   "cell_type": "code",
   "execution_count": 7,
   "metadata": {},
   "outputs": [
    {
     "name": "stdout",
     "output_type": "stream",
     "text": [
      "Generators for Clifford 356 are: [\"IP\" \"cZ\" \"HI\" \"PI\" \"HI\"]\n"
     ]
    }
   ],
   "source": [
    "print(\"Generators for Clifford 356 are: $([twoQubitGenString[x] for x in minPaths[356]])\\n\")"
   ]
  },
  {
   "cell_type": "code",
   "execution_count": 8,
   "metadata": {},
   "outputs": [
    {
     "data": {
      "text/plain": [
       "true"
      ]
     },
     "execution_count": 8,
     "metadata": {},
     "output_type": "execute_result"
    }
   ],
   "source": [
    "cliff = makeSuper(pI⊗pI)\n",
    "for c in minPaths[356]\n",
    "    cliff = super2Gens[c]*cliff\n",
    "end\n",
    "cliff == superTwoQubitCliffords[356]\n",
    "# Again note that the the generators multiply on the left (obviously you can change line 46 of above if you want the other way round) )"
   ]
  },
  {
   "cell_type": "code",
   "execution_count": 9,
   "metadata": {},
   "outputs": [
    {
     "name": "stderr",
     "output_type": "stream",
     "text": [
      "\u001b[32mProgress: 100%|█████████████████████████████████████████| Time: 0:00:00\u001b[39m\n"
     ]
    }
   ],
   "source": [
    "# sanity check\n",
    "pIpI = makeSuper(pI⊗pI)\n",
    "@showprogress for x in 1:length(superTwoQubitCliffords)\n",
    "    cliff = pIpI\n",
    "    for c in minPaths[x]\n",
    "        cliff = super2Gens[c]*cliff\n",
    "    end\n",
    "    @assert cliff == superTwoQubitCliffords[x]\n",
    "end"
   ]
  },
  {
   "cell_type": "code",
   "execution_count": 10,
   "metadata": {},
   "outputs": [],
   "source": [
    "# And of course it commutes through makeSuper (this is useful because makeSuper can be slow for qubits >> 4)\n",
    "cliff = pI⊗pI\n",
    "for c in minPaths[356]\n",
    "    cliff = twoQubitGens[c]*cliff\n",
    "end\n",
    "@assert makeSuper(twoQubitCliffords[356]) == makeSuper(cliff)"
   ]
  },
  {
   "cell_type": "code",
   "execution_count": 11,
   "metadata": {},
   "outputs": [
    {
     "name": "stderr",
     "output_type": "stream",
     "text": [
      "\u001b[32mProgress: 100%|█████████████████████████████████████████| Time: 0:00:00\u001b[39m\n"
     ]
    },
    {
     "name": "stdout",
     "output_type": "stream",
     "text": [
      "ok"
     ]
    }
   ],
   "source": [
    "# Lets say we want to generate only the Real Cliffords (note no phase in the generators)\n",
    "twoQubitRealGens = [pXpI,pIpX,pZpI,pIpZ,pHpI,pIpH,cnot12,cnot21];\n",
    "\n",
    "\n",
    "#Index to the cliffords\n",
    "singleReals=[]\n",
    "doubleReals=[]\n",
    "\n",
    "# The generators we will use for single qubit reals are pZ and PH\n",
    "push!(singleReals,findClifford(makeSuper(pZ)))\n",
    "push!(singleReals,findClifford(makeSuper(pH)))\n",
    "\n",
    "# Note don't use the isequal predicate in findfirst as we need 0.0 to equal -0.0\n",
    "\n",
    "let doneOne = true\n",
    "    while doneOne\n",
    "        doneOne=false\n",
    "        toIterate = copy(singleReals)\n",
    "        for i in toIterate\n",
    "            n1 = findClifford(makeSuper(pZ)*superCliffords[i])\n",
    "            if (findfirst(x->x==n1,singleReals) == nothing)\n",
    "                push!(singleReals,n1)\n",
    "                doneOne=true\n",
    "            end\n",
    "            n2 = findClifford(makeSuper(pH)*superCliffords[i])\n",
    "            if (findfirst(x->x==n2,singleReals) == nothing)\n",
    "                push!(singleReals,n2)\n",
    "                doneOne=true\n",
    "            end\n",
    "        end\n",
    "    end\n",
    "end    \n",
    "\n",
    "\n",
    "\n",
    "#Check the frame reference, this is an orthogonal 2-design, should be 3\n",
    "\n",
    "@assert round(checkFrame([operatorCliffords[x] for x in singleReals]),digits = 8)==3\n",
    "\n",
    "\n",
    "# Then generate using the generators for the real cliffords\n",
    "# Note here we have both X and Z generators, they are not a minimal set\n",
    "superReal2Gens = [makeSuper(x) for x in twoQubitRealGens];\n",
    "\n",
    "doubleReals = []\n",
    "for i in superReal2Gens\n",
    "    push!(doubleReals,findfirst(x->x==i,superTwoQubitCliffords))\n",
    "end\n",
    "\n",
    "let doneOne = true\n",
    "    while doneOne\n",
    "        doneOne=false\n",
    "        toIterate = copy(doubleReals)\n",
    "        for i in toIterate\n",
    "            for j in superReal2Gens\n",
    "                lookFor = j*superTwoQubitCliffords[i]\n",
    "                n1 = findfirst(x->x == lookFor,superTwoQubitCliffords)\n",
    "                if (findfirst(x->x == n1,doubleReals) == nothing)\n",
    "                    push!(doubleReals,n1)\n",
    "                    doneOne=true\n",
    "                end\n",
    "            end\n",
    "        end\n",
    "    end\n",
    "end\n",
    "\n",
    "\n",
    "#Check the frame reference, this is an orthogonal 2-design, should be 3\n",
    "\n",
    "@assert round(checkFrame([twoQubitCliffords[x] for x in doubleReals]),digits=8)==3\n",
    "\n",
    "print(\"ok\")\n"
   ]
  },
  {
   "cell_type": "markdown",
   "metadata": {},
   "source": [
    "At the end of that, double reals is list of the indexes of the two qubit Cliffords that are also in the REAL Clifford group"
   ]
  }
 ],
 "metadata": {
  "@webio": {
   "lastCommId": null,
   "lastKernelId": null
  },
  "kernelspec": {
   "display_name": "Julia 1.8.1",
   "language": "julia",
   "name": "julia-1.8"
  },
  "language_info": {
   "file_extension": ".jl",
   "mimetype": "application/julia",
   "name": "julia",
   "version": "1.8.1"
  }
 },
 "nbformat": 4,
 "nbformat_minor": 4
}
